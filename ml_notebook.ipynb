{
  "nbformat": 4,
  "nbformat_minor": 0,
  "metadata": {
    "colab": {
      "provenance": [],
      "collapsed_sections": [
        "ImRXsejq3oXj",
        "_f4XvYL2d21K",
        "Cfjpixiyd66i",
        "-h1dzNgVhzUj",
        "sRI44SdA33uX"
      ],
      "gpuType": "T4"
    },
    "kernelspec": {
      "name": "python3",
      "display_name": "Python 3"
    },
    "language_info": {
      "name": "python"
    },
    "accelerator": "GPU"
  },
  "cells": [
    {
      "cell_type": "markdown",
      "source": [
        "# **1) Initiall instructions**"
      ],
      "metadata": {
        "id": "ImRXsejq3oXj"
      }
    },
    {
      "cell_type": "code",
      "source": [
        "!pip install rdkit\n",
        "!pip install xgboost\n",
        "!pip install catboost\n",
        "!pip install optuna"
      ],
      "metadata": {
        "colab": {
          "base_uri": "https://localhost:8080/"
        },
        "id": "GbHHhbdbnxKL",
        "outputId": "fc7579c4-00a0-4758-bb22-5a20d27a4dae"
      },
      "execution_count": null,
      "outputs": [
        {
          "output_type": "stream",
          "name": "stdout",
          "text": [
            "Requirement already satisfied: rdkit in /usr/local/lib/python3.10/dist-packages (2024.3.6)\n",
            "Requirement already satisfied: numpy in /usr/local/lib/python3.10/dist-packages (from rdkit) (1.26.4)\n",
            "Requirement already satisfied: Pillow in /usr/local/lib/python3.10/dist-packages (from rdkit) (11.0.0)\n",
            "Requirement already satisfied: xgboost in /usr/local/lib/python3.10/dist-packages (2.1.3)\n",
            "Requirement already satisfied: numpy in /usr/local/lib/python3.10/dist-packages (from xgboost) (1.26.4)\n",
            "Requirement already satisfied: nvidia-nccl-cu12 in /usr/local/lib/python3.10/dist-packages (from xgboost) (2.23.4)\n",
            "Requirement already satisfied: scipy in /usr/local/lib/python3.10/dist-packages (from xgboost) (1.13.1)\n",
            "Requirement already satisfied: catboost in /usr/local/lib/python3.10/dist-packages (1.2.7)\n",
            "Requirement already satisfied: graphviz in /usr/local/lib/python3.10/dist-packages (from catboost) (0.20.3)\n",
            "Requirement already satisfied: matplotlib in /usr/local/lib/python3.10/dist-packages (from catboost) (3.8.0)\n",
            "Requirement already satisfied: numpy<2.0,>=1.16.0 in /usr/local/lib/python3.10/dist-packages (from catboost) (1.26.4)\n",
            "Requirement already satisfied: pandas>=0.24 in /usr/local/lib/python3.10/dist-packages (from catboost) (2.2.2)\n",
            "Requirement already satisfied: scipy in /usr/local/lib/python3.10/dist-packages (from catboost) (1.13.1)\n",
            "Requirement already satisfied: plotly in /usr/local/lib/python3.10/dist-packages (from catboost) (5.24.1)\n",
            "Requirement already satisfied: six in /usr/local/lib/python3.10/dist-packages (from catboost) (1.17.0)\n",
            "Requirement already satisfied: python-dateutil>=2.8.2 in /usr/local/lib/python3.10/dist-packages (from pandas>=0.24->catboost) (2.8.2)\n",
            "Requirement already satisfied: pytz>=2020.1 in /usr/local/lib/python3.10/dist-packages (from pandas>=0.24->catboost) (2024.2)\n",
            "Requirement already satisfied: tzdata>=2022.7 in /usr/local/lib/python3.10/dist-packages (from pandas>=0.24->catboost) (2024.2)\n",
            "Requirement already satisfied: contourpy>=1.0.1 in /usr/local/lib/python3.10/dist-packages (from matplotlib->catboost) (1.3.1)\n",
            "Requirement already satisfied: cycler>=0.10 in /usr/local/lib/python3.10/dist-packages (from matplotlib->catboost) (0.12.1)\n",
            "Requirement already satisfied: fonttools>=4.22.0 in /usr/local/lib/python3.10/dist-packages (from matplotlib->catboost) (4.55.3)\n",
            "Requirement already satisfied: kiwisolver>=1.0.1 in /usr/local/lib/python3.10/dist-packages (from matplotlib->catboost) (1.4.7)\n",
            "Requirement already satisfied: packaging>=20.0 in /usr/local/lib/python3.10/dist-packages (from matplotlib->catboost) (24.2)\n",
            "Requirement already satisfied: pillow>=6.2.0 in /usr/local/lib/python3.10/dist-packages (from matplotlib->catboost) (11.0.0)\n",
            "Requirement already satisfied: pyparsing>=2.3.1 in /usr/local/lib/python3.10/dist-packages (from matplotlib->catboost) (3.2.0)\n",
            "Requirement already satisfied: tenacity>=6.2.0 in /usr/local/lib/python3.10/dist-packages (from plotly->catboost) (9.0.0)\n",
            "Requirement already satisfied: optuna in /usr/local/lib/python3.10/dist-packages (4.1.0)\n",
            "Requirement already satisfied: alembic>=1.5.0 in /usr/local/lib/python3.10/dist-packages (from optuna) (1.14.0)\n",
            "Requirement already satisfied: colorlog in /usr/local/lib/python3.10/dist-packages (from optuna) (6.9.0)\n",
            "Requirement already satisfied: numpy in /usr/local/lib/python3.10/dist-packages (from optuna) (1.26.4)\n",
            "Requirement already satisfied: packaging>=20.0 in /usr/local/lib/python3.10/dist-packages (from optuna) (24.2)\n",
            "Requirement already satisfied: sqlalchemy>=1.4.2 in /usr/local/lib/python3.10/dist-packages (from optuna) (2.0.36)\n",
            "Requirement already satisfied: tqdm in /usr/local/lib/python3.10/dist-packages (from optuna) (4.66.6)\n",
            "Requirement already satisfied: PyYAML in /usr/local/lib/python3.10/dist-packages (from optuna) (6.0.2)\n",
            "Requirement already satisfied: Mako in /usr/local/lib/python3.10/dist-packages (from alembic>=1.5.0->optuna) (1.3.8)\n",
            "Requirement already satisfied: typing-extensions>=4 in /usr/local/lib/python3.10/dist-packages (from alembic>=1.5.0->optuna) (4.12.2)\n",
            "Requirement already satisfied: greenlet!=0.4.17 in /usr/local/lib/python3.10/dist-packages (from sqlalchemy>=1.4.2->optuna) (3.1.1)\n",
            "Requirement already satisfied: MarkupSafe>=0.9.2 in /usr/local/lib/python3.10/dist-packages (from Mako->alembic>=1.5.0->optuna) (3.0.2)\n"
          ]
        }
      ]
    },
    {
      "cell_type": "code",
      "execution_count": null,
      "metadata": {
        "colab": {
          "base_uri": "https://localhost:8080/"
        },
        "id": "tU6oLl4AZdfi",
        "outputId": "59f41f1b-dbf4-4e3b-97f7-b33ea7975374"
      },
      "outputs": [
        {
          "output_type": "stream",
          "name": "stdout",
          "text": [
            "Drive already mounted at /content/drive; to attempt to forcibly remount, call drive.mount(\"/content/drive\", force_remount=True).\n"
          ]
        }
      ],
      "source": [
        "from google.colab import drive\n",
        "drive.mount('/content/drive')"
      ]
    },
    {
      "cell_type": "code",
      "source": [
        "import pandas as pd\n",
        "import numpy as np\n",
        "import os\n",
        "from joblib import dump\n",
        "import optuna\n",
        "import matplotlib.pyplot as plt\n",
        "\n",
        "from rdkit import Chem\n",
        "from rdkit.Chem.AllChem import GetMorganGenerator\n",
        "\n",
        "from sklearn.ensemble import RandomForestClassifier\n",
        "from sklearn.svm import SVC\n",
        "from sklearn.linear_model import LogisticRegression\n",
        "from sklearn.model_selection import cross_val_score, StratifiedKFold\n",
        "from sklearn.metrics import matthews_corrcoef\n",
        "from sklearn.decomposition import PCA\n",
        "\n",
        "from xgboost import XGBClassifier\n",
        "from catboost import CatBoostClassifier"
      ],
      "metadata": {
        "id": "Zxlgo_GwZqmb"
      },
      "execution_count": null,
      "outputs": []
    },
    {
      "cell_type": "markdown",
      "source": [
        "# **1) Ki dataset**"
      ],
      "metadata": {
        "id": "_f4XvYL2d21K"
      }
    },
    {
      "cell_type": "code",
      "source": [
        "data_Ki = pd.read_csv('/content/drive/MyDrive/5ht7/5ht7_Ki.csv', sep=';')\n",
        "list_of_cols = [\"Molecule ChEMBL ID\", \"Smiles\", \"Standard Type\", \"Standard Relation\", \"Standard Value\", \"Standard Units\", \"Action Type\", \"Document ChEMBL ID\"]\n",
        "df_Ki = pd.DataFrame(data_Ki, columns = list_of_cols)\n",
        "df_Ki = df_Ki[df_Ki['Action Type'].isin(['ANTAGONIST', 'INHIBITOR'])]"
      ],
      "metadata": {
        "id": "kKghglWtZuvy"
      },
      "execution_count": null,
      "outputs": []
    },
    {
      "cell_type": "code",
      "source": [
        "df_Ki.isna().sum()"
      ],
      "metadata": {
        "colab": {
          "base_uri": "https://localhost:8080/",
          "height": 529
        },
        "id": "cSNiaBKMbEya",
        "outputId": "d47d0b9f-1c65-46a4-81c4-af3f77176677"
      },
      "execution_count": null,
      "outputs": [
        {
          "output_type": "execute_result",
          "data": {
            "text/plain": [
              "Molecule ChEMBL ID    0\n",
              "Smiles                0\n",
              "Standard Type         0\n",
              "Standard Relation     0\n",
              "Standard Value        0\n",
              "Standard Units        0\n",
              "Action Type           0\n",
              "Document ChEMBL ID    0\n",
              "dtype: int64"
            ],
            "text/html": [
              "<div>\n",
              "<style scoped>\n",
              "    .dataframe tbody tr th:only-of-type {\n",
              "        vertical-align: middle;\n",
              "    }\n",
              "\n",
              "    .dataframe tbody tr th {\n",
              "        vertical-align: top;\n",
              "    }\n",
              "\n",
              "    .dataframe thead th {\n",
              "        text-align: right;\n",
              "    }\n",
              "</style>\n",
              "<table border=\"1\" class=\"dataframe\">\n",
              "  <thead>\n",
              "    <tr style=\"text-align: right;\">\n",
              "      <th></th>\n",
              "      <th>0</th>\n",
              "    </tr>\n",
              "  </thead>\n",
              "  <tbody>\n",
              "    <tr>\n",
              "      <th>Molecule ChEMBL ID</th>\n",
              "      <td>0</td>\n",
              "    </tr>\n",
              "    <tr>\n",
              "      <th>Smiles</th>\n",
              "      <td>0</td>\n",
              "    </tr>\n",
              "    <tr>\n",
              "      <th>Standard Type</th>\n",
              "      <td>0</td>\n",
              "    </tr>\n",
              "    <tr>\n",
              "      <th>Standard Relation</th>\n",
              "      <td>0</td>\n",
              "    </tr>\n",
              "    <tr>\n",
              "      <th>Standard Value</th>\n",
              "      <td>0</td>\n",
              "    </tr>\n",
              "    <tr>\n",
              "      <th>Standard Units</th>\n",
              "      <td>0</td>\n",
              "    </tr>\n",
              "    <tr>\n",
              "      <th>Action Type</th>\n",
              "      <td>0</td>\n",
              "    </tr>\n",
              "    <tr>\n",
              "      <th>Document ChEMBL ID</th>\n",
              "      <td>0</td>\n",
              "    </tr>\n",
              "  </tbody>\n",
              "</table>\n",
              "</div><br><label><b>dtype:</b> int64</label>"
            ]
          },
          "metadata": {},
          "execution_count": 123
        }
      ]
    },
    {
      "cell_type": "markdown",
      "source": [
        "# **2) IC50 dataset**"
      ],
      "metadata": {
        "id": "Cfjpixiyd66i"
      }
    },
    {
      "cell_type": "markdown",
      "source": [
        "According to Kaliokoski et al. in  [\"Comparability of Mixed IC50 Data – A Statistical Analysis\"](https://journals.plos.org/plosone/article?id=10.1371/journal.pone.0061007), Ki value is approximately equal to IC50/2."
      ],
      "metadata": {
        "id": "R55ylHUg6Zl1"
      }
    },
    {
      "cell_type": "code",
      "source": [
        "data_IC50 = pd.read_csv('/content/drive/MyDrive/5ht7/5ht7_IC50.csv', sep=';')\n",
        "df_IC50 = pd.DataFrame(data_IC50, columns = list_of_cols)\n",
        "df_IC50 = df_IC50[df_IC50['Action Type'].isin(['ANTAGONIST', \"INHIBITOR\"])]"
      ],
      "metadata": {
        "id": "qrJBJ9xtd_BC"
      },
      "execution_count": null,
      "outputs": []
    },
    {
      "cell_type": "code",
      "source": [
        "df_IC50['Standard Type'] = 'Ki'\n",
        "df_IC50['Standard Value'] = df_IC50['Standard Value'] * 0.5"
      ],
      "metadata": {
        "id": "1oU3R2khlGoa"
      },
      "execution_count": null,
      "outputs": []
    },
    {
      "cell_type": "code",
      "source": [
        "df_IC50.isna().sum()"
      ],
      "metadata": {
        "colab": {
          "base_uri": "https://localhost:8080/",
          "height": 529
        },
        "id": "hYOl2u89hmaK",
        "outputId": "a9aa5c36-c244-4711-ea15-19bd778b60b1"
      },
      "execution_count": null,
      "outputs": [
        {
          "output_type": "execute_result",
          "data": {
            "text/plain": [
              "Molecule ChEMBL ID    0\n",
              "Smiles                0\n",
              "Standard Type         0\n",
              "Standard Relation     0\n",
              "Standard Value        0\n",
              "Standard Units        0\n",
              "Action Type           0\n",
              "Document ChEMBL ID    0\n",
              "dtype: int64"
            ],
            "text/html": [
              "<div>\n",
              "<style scoped>\n",
              "    .dataframe tbody tr th:only-of-type {\n",
              "        vertical-align: middle;\n",
              "    }\n",
              "\n",
              "    .dataframe tbody tr th {\n",
              "        vertical-align: top;\n",
              "    }\n",
              "\n",
              "    .dataframe thead th {\n",
              "        text-align: right;\n",
              "    }\n",
              "</style>\n",
              "<table border=\"1\" class=\"dataframe\">\n",
              "  <thead>\n",
              "    <tr style=\"text-align: right;\">\n",
              "      <th></th>\n",
              "      <th>0</th>\n",
              "    </tr>\n",
              "  </thead>\n",
              "  <tbody>\n",
              "    <tr>\n",
              "      <th>Molecule ChEMBL ID</th>\n",
              "      <td>0</td>\n",
              "    </tr>\n",
              "    <tr>\n",
              "      <th>Smiles</th>\n",
              "      <td>0</td>\n",
              "    </tr>\n",
              "    <tr>\n",
              "      <th>Standard Type</th>\n",
              "      <td>0</td>\n",
              "    </tr>\n",
              "    <tr>\n",
              "      <th>Standard Relation</th>\n",
              "      <td>0</td>\n",
              "    </tr>\n",
              "    <tr>\n",
              "      <th>Standard Value</th>\n",
              "      <td>0</td>\n",
              "    </tr>\n",
              "    <tr>\n",
              "      <th>Standard Units</th>\n",
              "      <td>0</td>\n",
              "    </tr>\n",
              "    <tr>\n",
              "      <th>Action Type</th>\n",
              "      <td>0</td>\n",
              "    </tr>\n",
              "    <tr>\n",
              "      <th>Document ChEMBL ID</th>\n",
              "      <td>0</td>\n",
              "    </tr>\n",
              "  </tbody>\n",
              "</table>\n",
              "</div><br><label><b>dtype:</b> int64</label>"
            ]
          },
          "metadata": {},
          "execution_count": 126
        }
      ]
    },
    {
      "cell_type": "markdown",
      "source": [
        "# **3) Concatenation**"
      ],
      "metadata": {
        "id": "-h1dzNgVhzUj"
      }
    },
    {
      "cell_type": "code",
      "source": [
        "df_concat = pd.concat([df_Ki, df_IC50])\n",
        "print(f'df_concat shape before drop_duplicates(): {df_concat.shape}')\n",
        "df_concat = df_concat.drop_duplicates(subset=['Molecule ChEMBL ID'])\n",
        "print(f'df_concat shape after drop_duplicates(): {df_concat.shape}')"
      ],
      "metadata": {
        "colab": {
          "base_uri": "https://localhost:8080/"
        },
        "id": "XPTqN7hVh4qU",
        "outputId": "6dfa5cbf-051b-4d22-d06c-afc24c7c91ed"
      },
      "execution_count": null,
      "outputs": [
        {
          "output_type": "stream",
          "name": "stdout",
          "text": [
            "df_concat shape before drop_duplicates(): (257, 8)\n",
            "df_concat shape after drop_duplicates(): (177, 8)\n"
          ]
        }
      ]
    },
    {
      "cell_type": "code",
      "source": [
        "df_concat['Bin_Activity'] = np.where(df_concat['Standard Value'] <= 50, 1, 0) #1 means 'active'; 0 means 'not active'\n",
        "df_final = df_concat\n",
        "df_final.reset_index(drop=True, inplace=True)\n",
        "df_final.shape"
      ],
      "metadata": {
        "id": "iZpxVrPkjrJy",
        "colab": {
          "base_uri": "https://localhost:8080/"
        },
        "outputId": "9024381f-a508-46f8-d5c2-62eff5260550"
      },
      "execution_count": null,
      "outputs": [
        {
          "output_type": "execute_result",
          "data": {
            "text/plain": [
              "(177, 9)"
            ]
          },
          "metadata": {},
          "execution_count": 128
        }
      ]
    },
    {
      "cell_type": "code",
      "source": [
        "activity_counts = df_final['Bin_Activity'].value_counts()\n",
        "colors = ['green', 'orange']\n",
        "\n",
        "plt.figure(figsize=(8, 6))\n",
        "plt.bar(activity_counts.index, activity_counts.values, color=colors)\n",
        "plt.xlabel('Bin Activity classes')\n",
        "plt.ylabel('Number of Samples')\n",
        "plt.title('Distribution of Bin Activity classes')\n",
        "plt.xticks(activity_counts.index)\n",
        "plt.gca().set_facecolor('#f0f0f0')\n",
        "plt.grid()\n",
        "plt.show()"
      ],
      "metadata": {
        "colab": {
          "base_uri": "https://localhost:8080/",
          "height": 54
        },
        "id": "_9kIeajTFsAX",
        "outputId": "58968b11-d375-48e9-acce-53d92827e681"
      },
      "execution_count": null,
      "outputs": [
        {
          "output_type": "display_data",
          "data": {
            "text/plain": [
              "<Figure size 800x600 with 1 Axes>"
            ],
            "image/png": "[encoded data removed]"
          },
          "metadata": {}
        }
      ]
    },
    {
      "cell_type": "markdown",
      "source": [
        "# **4) Radius, fingeprints length and model screening**"
      ],
      "metadata": {
        "id": "sRI44SdA33uX"
      }
    },
    {
      "cell_type": "code",
      "source": [
        "%%time\n",
        "list_of_models = [\n",
        "    RandomForestClassifier(random_state=13),\n",
        "    SVC(random_state=13),\n",
        "    LogisticRegression(random_state=13),\n",
        "    XGBClassifier(random_state=13),\n",
        "    CatBoostClassifier(random_state=13, verbose=False),\n",
        "]\n",
        "\n",
        "skf = StratifiedKFold(n_splits=5, shuffle=True, random_state=13)\n",
        "\n",
        "fps_list = [1024, 2048, 4096, 8192]\n",
        "rds_list = [1, 2, 3, 4, 5]\n",
        "\n",
        "results = []\n",
        "\n",
        "for fps in fps_list:\n",
        "    for rds in rds_list:\n",
        "        morgan_gen = GetMorganGenerator(radius=rds, fpSize=fps)\n",
        "        df_final['Morgan_fps'] = df_final['Smiles'].apply(lambda x: morgan_gen.GetFingerprint(Chem.MolFromSmiles(x)))\n",
        "\n",
        "        y = np.array(df_final['Bin_Activity'])\n",
        "        X = np.array([np.array(x) for x in df_final['Morgan_fps']])\n",
        "\n",
        "        for model in list_of_models:\n",
        "            model_name = type(model).__name__\n",
        "            model.fit(X, y)\n",
        "\n",
        "            accuracy = cross_val_score(model, X, y, cv=skf, scoring='accuracy').mean()\n",
        "            mcc = matthews_corrcoef(y, model.predict(X))\n",
        "\n",
        "            results.append({\n",
        "                \"fps\": fps,\n",
        "                \"rds\": rds,\n",
        "                \"model\": model_name,\n",
        "                \"accuracy\": accuracy,\n",
        "                \"mcc\": mcc\n",
        "            })\n"
      ],
      "metadata": {
        "colab": {
          "base_uri": "https://localhost:8080/"
        },
        "id": "OMj4IXx_zV3K",
        "outputId": "d1cfb93b-00e5-4341-f2a9-4cb6c09dea33"
      },
      "execution_count": null,
      "outputs": [
        {
          "output_type": "stream",
          "name": "stdout",
          "text": [
            "CPU times: user 17min 13s, sys: 1min 17s, total: 18min 31s\n",
            "Wall time: 13min 21s\n"
          ]
        }
      ]
    },
    {
      "cell_type": "code",
      "source": [
        "results_df = pd.DataFrame(results)\n",
        "\n",
        "for model_name in results_df['model'].unique():\n",
        "    print(f\"Model: {model_name}\")\n",
        "    model_results = results_df[results_df['model'] == model_name].sort_values(by='accuracy', ascending=False)\n",
        "\n",
        "    for _, row in model_results.iterrows():\n",
        "        print(f\"fps: {row['fps']}, rds: {row['rds']} ==> Accuracy: {row['accuracy']*100:.2f}% ; Matthews correlation coefficient: {row['mcc']:.2f}\")\n",
        "    print(\"=================================================\")\n"
      ],
      "metadata": {
        "colab": {
          "base_uri": "https://localhost:8080/"
        },
        "id": "iUEyTHJm48MK",
        "outputId": "72a7835f-af80-4a25-859c-e3f41c3f00f5",
        "collapsed": true
      },
      "execution_count": null,
      "outputs": [
        {
          "output_type": "stream",
          "name": "stdout",
          "text": [
            "Model: RandomForestClassifier\n",
            "fps: 1024, rds: 1 ==> Accuracy: 87.05% ; Matthews correlation coefficient: 0.98\n",
            "fps: 2048, rds: 1 ==> Accuracy: 85.92% ; Matthews correlation coefficient: 0.98\n",
            "fps: 2048, rds: 2 ==> Accuracy: 85.89% ; Matthews correlation coefficient: 0.98\n",
            "fps: 8192, rds: 1 ==> Accuracy: 85.35% ; Matthews correlation coefficient: 0.98\n",
            "fps: 1024, rds: 2 ==> Accuracy: 85.33% ; Matthews correlation coefficient: 0.98\n",
            "fps: 2048, rds: 4 ==> Accuracy: 84.78% ; Matthews correlation coefficient: 0.98\n",
            "fps: 8192, rds: 3 ==> Accuracy: 84.78% ; Matthews correlation coefficient: 0.98\n",
            "fps: 4096, rds: 1 ==> Accuracy: 84.78% ; Matthews correlation coefficient: 0.98\n",
            "fps: 8192, rds: 2 ==> Accuracy: 84.76% ; Matthews correlation coefficient: 0.98\n",
            "fps: 2048, rds: 3 ==> Accuracy: 84.24% ; Matthews correlation coefficient: 0.98\n",
            "fps: 1024, rds: 5 ==> Accuracy: 84.22% ; Matthews correlation coefficient: 0.98\n",
            "fps: 4096, rds: 4 ==> Accuracy: 84.22% ; Matthews correlation coefficient: 0.98\n",
            "fps: 4096, rds: 2 ==> Accuracy: 84.21% ; Matthews correlation coefficient: 0.98\n",
            "fps: 1024, rds: 4 ==> Accuracy: 83.67% ; Matthews correlation coefficient: 0.98\n",
            "fps: 8192, rds: 4 ==> Accuracy: 83.67% ; Matthews correlation coefficient: 0.98\n",
            "fps: 4096, rds: 3 ==> Accuracy: 83.65% ; Matthews correlation coefficient: 0.98\n",
            "fps: 8192, rds: 5 ==> Accuracy: 83.63% ; Matthews correlation coefficient: 0.98\n",
            "fps: 1024, rds: 3 ==> Accuracy: 83.63% ; Matthews correlation coefficient: 0.98\n",
            "fps: 4096, rds: 5 ==> Accuracy: 83.10% ; Matthews correlation coefficient: 0.98\n",
            "fps: 2048, rds: 5 ==> Accuracy: 82.54% ; Matthews correlation coefficient: 0.98\n",
            "=================================================\n",
            "Model: SVC\n",
            "fps: 2048, rds: 1 ==> Accuracy: 83.06% ; Matthews correlation coefficient: 0.79\n",
            "fps: 8192, rds: 1 ==> Accuracy: 82.52% ; Matthews correlation coefficient: 0.79\n",
            "fps: 1024, rds: 1 ==> Accuracy: 82.51% ; Matthews correlation coefficient: 0.79\n",
            "fps: 4096, rds: 1 ==> Accuracy: 82.51% ; Matthews correlation coefficient: 0.80\n",
            "fps: 2048, rds: 3 ==> Accuracy: 82.51% ; Matthews correlation coefficient: 0.88\n",
            "fps: 8192, rds: 4 ==> Accuracy: 81.95% ; Matthews correlation coefficient: 0.88\n",
            "fps: 4096, rds: 4 ==> Accuracy: 81.95% ; Matthews correlation coefficient: 0.86\n",
            "fps: 8192, rds: 5 ==> Accuracy: 81.95% ; Matthews correlation coefficient: 0.88\n",
            "fps: 2048, rds: 5 ==> Accuracy: 81.95% ; Matthews correlation coefficient: 0.88\n",
            "fps: 4096, rds: 5 ==> Accuracy: 81.95% ; Matthews correlation coefficient: 0.86\n",
            "fps: 2048, rds: 4 ==> Accuracy: 81.95% ; Matthews correlation coefficient: 0.88\n",
            "fps: 1024, rds: 3 ==> Accuracy: 81.40% ; Matthews correlation coefficient: 0.89\n",
            "fps: 1024, rds: 5 ==> Accuracy: 81.40% ; Matthews correlation coefficient: 0.89\n",
            "fps: 1024, rds: 4 ==> Accuracy: 81.40% ; Matthews correlation coefficient: 0.86\n",
            "fps: 4096, rds: 3 ==> Accuracy: 81.40% ; Matthews correlation coefficient: 0.88\n",
            "fps: 8192, rds: 3 ==> Accuracy: 81.38% ; Matthews correlation coefficient: 0.88\n",
            "fps: 2048, rds: 2 ==> Accuracy: 79.68% ; Matthews correlation coefficient: 0.86\n",
            "fps: 4096, rds: 2 ==> Accuracy: 79.13% ; Matthews correlation coefficient: 0.86\n",
            "fps: 8192, rds: 2 ==> Accuracy: 79.13% ; Matthews correlation coefficient: 0.86\n",
            "fps: 1024, rds: 2 ==> Accuracy: 79.11% ; Matthews correlation coefficient: 0.86\n",
            "=================================================\n",
            "Model: LogisticRegression\n",
            "fps: 4096, rds: 2 ==> Accuracy: 86.48% ; Matthews correlation coefficient: 0.95\n",
            "fps: 8192, rds: 5 ==> Accuracy: 85.92% ; Matthews correlation coefficient: 0.98\n",
            "fps: 1024, rds: 3 ==> Accuracy: 85.90% ; Matthews correlation coefficient: 0.95\n",
            "fps: 2048, rds: 5 ==> Accuracy: 85.90% ; Matthews correlation coefficient: 0.98\n",
            "fps: 2048, rds: 4 ==> Accuracy: 85.90% ; Matthews correlation coefficient: 0.94\n",
            "fps: 2048, rds: 1 ==> Accuracy: 85.35% ; Matthews correlation coefficient: 0.85\n",
            "fps: 1024, rds: 1 ==> Accuracy: 85.35% ; Matthews correlation coefficient: 0.85\n",
            "fps: 1024, rds: 4 ==> Accuracy: 85.35% ; Matthews correlation coefficient: 0.95\n",
            "fps: 8192, rds: 2 ==> Accuracy: 85.35% ; Matthews correlation coefficient: 0.95\n",
            "fps: 8192, rds: 4 ==> Accuracy: 85.35% ; Matthews correlation coefficient: 0.95\n",
            "fps: 1024, rds: 5 ==> Accuracy: 85.35% ; Matthews correlation coefficient: 0.98\n",
            "fps: 4096, rds: 4 ==> Accuracy: 85.33% ; Matthews correlation coefficient: 0.94\n",
            "fps: 4096, rds: 5 ==> Accuracy: 85.33% ; Matthews correlation coefficient: 0.98\n",
            "fps: 2048, rds: 3 ==> Accuracy: 85.33% ; Matthews correlation coefficient: 0.94\n",
            "fps: 2048, rds: 2 ==> Accuracy: 85.33% ; Matthews correlation coefficient: 0.95\n",
            "fps: 4096, rds: 3 ==> Accuracy: 85.33% ; Matthews correlation coefficient: 0.95\n",
            "fps: 8192, rds: 3 ==> Accuracy: 84.78% ; Matthews correlation coefficient: 0.95\n",
            "fps: 8192, rds: 1 ==> Accuracy: 84.24% ; Matthews correlation coefficient: 0.84\n",
            "fps: 1024, rds: 2 ==> Accuracy: 84.21% ; Matthews correlation coefficient: 0.95\n",
            "fps: 4096, rds: 1 ==> Accuracy: 84.21% ; Matthews correlation coefficient: 0.85\n",
            "=================================================\n",
            "Model: XGBClassifier\n",
            "fps: 8192, rds: 1 ==> Accuracy: 88.13% ; Matthews correlation coefficient: 0.95\n",
            "fps: 4096, rds: 1 ==> Accuracy: 87.56% ; Matthews correlation coefficient: 0.96\n",
            "fps: 1024, rds: 1 ==> Accuracy: 87.00% ; Matthews correlation coefficient: 0.95\n",
            "fps: 8192, rds: 2 ==> Accuracy: 86.46% ; Matthews correlation coefficient: 0.95\n",
            "fps: 2048, rds: 2 ==> Accuracy: 85.90% ; Matthews correlation coefficient: 0.96\n",
            "fps: 2048, rds: 3 ==> Accuracy: 85.90% ; Matthews correlation coefficient: 0.96\n",
            "fps: 4096, rds: 2 ==> Accuracy: 85.37% ; Matthews correlation coefficient: 0.96\n",
            "fps: 2048, rds: 1 ==> Accuracy: 85.30% ; Matthews correlation coefficient: 0.96\n",
            "fps: 1024, rds: 2 ==> Accuracy: 84.22% ; Matthews correlation coefficient: 0.96\n",
            "fps: 4096, rds: 4 ==> Accuracy: 84.21% ; Matthews correlation coefficient: 0.98\n",
            "fps: 4096, rds: 3 ==> Accuracy: 83.68% ; Matthews correlation coefficient: 0.98\n",
            "fps: 2048, rds: 5 ==> Accuracy: 83.67% ; Matthews correlation coefficient: 0.98\n",
            "fps: 8192, rds: 3 ==> Accuracy: 83.11% ; Matthews correlation coefficient: 0.96\n",
            "fps: 1024, rds: 5 ==> Accuracy: 83.10% ; Matthews correlation coefficient: 0.98\n",
            "fps: 1024, rds: 3 ==> Accuracy: 83.08% ; Matthews correlation coefficient: 0.98\n",
            "fps: 8192, rds: 5 ==> Accuracy: 82.54% ; Matthews correlation coefficient: 0.96\n",
            "fps: 4096, rds: 5 ==> Accuracy: 82.52% ; Matthews correlation coefficient: 0.98\n",
            "fps: 1024, rds: 4 ==> Accuracy: 81.97% ; Matthews correlation coefficient: 0.98\n",
            "fps: 2048, rds: 4 ==> Accuracy: 81.97% ; Matthews correlation coefficient: 0.98\n",
            "fps: 8192, rds: 4 ==> Accuracy: 81.97% ; Matthews correlation coefficient: 0.96\n",
            "=================================================\n",
            "Model: CatBoostClassifier\n",
            "fps: 4096, rds: 3 ==> Accuracy: 85.90% ; Matthews correlation coefficient: 0.95\n",
            "fps: 8192, rds: 1 ==> Accuracy: 85.37% ; Matthews correlation coefficient: 0.91\n",
            "fps: 4096, rds: 1 ==> Accuracy: 85.35% ; Matthews correlation coefficient: 0.91\n",
            "fps: 4096, rds: 5 ==> Accuracy: 84.81% ; Matthews correlation coefficient: 0.95\n",
            "fps: 4096, rds: 4 ==> Accuracy: 84.79% ; Matthews correlation coefficient: 0.95\n",
            "fps: 2048, rds: 1 ==> Accuracy: 84.78% ; Matthews correlation coefficient: 0.94\n",
            "fps: 2048, rds: 4 ==> Accuracy: 84.76% ; Matthews correlation coefficient: 0.95\n",
            "fps: 8192, rds: 3 ==> Accuracy: 84.24% ; Matthews correlation coefficient: 0.94\n",
            "fps: 1024, rds: 5 ==> Accuracy: 84.22% ; Matthews correlation coefficient: 0.98\n",
            "fps: 2048, rds: 3 ==> Accuracy: 84.22% ; Matthews correlation coefficient: 0.94\n",
            "fps: 1024, rds: 4 ==> Accuracy: 84.22% ; Matthews correlation coefficient: 0.95\n",
            "fps: 1024, rds: 1 ==> Accuracy: 84.22% ; Matthews correlation coefficient: 0.94\n",
            "fps: 2048, rds: 5 ==> Accuracy: 84.21% ; Matthews correlation coefficient: 0.96\n",
            "fps: 8192, rds: 5 ==> Accuracy: 83.65% ; Matthews correlation coefficient: 0.95\n",
            "fps: 4096, rds: 2 ==> Accuracy: 83.10% ; Matthews correlation coefficient: 0.94\n",
            "fps: 2048, rds: 2 ==> Accuracy: 83.10% ; Matthews correlation coefficient: 0.94\n",
            "fps: 8192, rds: 4 ==> Accuracy: 83.10% ; Matthews correlation coefficient: 0.94\n",
            "fps: 1024, rds: 2 ==> Accuracy: 82.52% ; Matthews correlation coefficient: 0.94\n",
            "fps: 1024, rds: 3 ==> Accuracy: 82.52% ; Matthews correlation coefficient: 0.94\n",
            "fps: 8192, rds: 2 ==> Accuracy: 82.52% ; Matthews correlation coefficient: 0.94\n",
            "=================================================\n"
          ]
        }
      ]
    },
    {
      "cell_type": "markdown",
      "source": [
        "# **5) Models optimization**"
      ],
      "metadata": {
        "id": "emWJPanvtiq_"
      }
    },
    {
      "cell_type": "markdown",
      "source": [
        "## **5.1) RandomForrestClassifier**"
      ],
      "metadata": {
        "id": "1YnxsYhntu77"
      }
    },
    {
      "cell_type": "code",
      "source": [
        "morgan_gen = GetMorganGenerator(radius=1, fpSize=1024)\n",
        "df_final['Morgan_fp'] = df_final['Smiles'].apply(lambda x: morgan_gen.GetFingerprint(Chem.MolFromSmiles(x)))\n",
        "\n",
        "y = np.array(df_final['Bin_Activity'])\n",
        "X = np.array([np.array(x) for x in df_final['Morgan_fp']])"
      ],
      "metadata": {
        "id": "QpTwp6SG8kSm"
      },
      "execution_count": null,
      "outputs": []
    },
    {
      "cell_type": "code",
      "source": [
        "def objective(trial):\n",
        "  n_estimators = trial.suggest_int('n_estimators', 100, 1000)\n",
        "  max_depth = trial.suggest_int('max_depth', 3, 50)\n",
        "  min_samples_split = trial.suggest_int('min_samples_split', 2, 10)\n",
        "  min_samples_leaf = trial.suggest_int('min_samples_leaf', 1, 10)\n",
        "  criterion = trial.suggest_categorical('criterion', ['gini', 'entropy'])\n",
        "\n",
        "\n",
        "  model = RandomForestClassifier(n_estimators=n_estimators, max_depth=max_depth, min_samples_split=min_samples_split, min_samples_leaf=min_samples_leaf, criterion=criterion, random_state=13,)\n",
        "  score = cross_val_score(model, X, y, cv=skf, scoring='accuracy').mean()\n",
        "\n",
        "  return score"
      ],
      "metadata": {
        "id": "Ks2Q91mUtzz0"
      },
      "execution_count": null,
      "outputs": []
    },
    {
      "cell_type": "code",
      "source": [
        "study = optuna.create_study(direction='maximize')\n",
        "study.optimize(objective, n_trials=200)"
      ],
      "metadata": {
        "colab": {
          "base_uri": "https://localhost:8080/"
        },
        "collapsed": true,
        "id": "jvxwg2bmubzZ",
        "outputId": "5a3fd220-9670-4546-ebb5-1fa47cd221f4"
      },
      "execution_count": null,
      "outputs": [
        {
          "output_type": "stream",
          "name": "stderr",
          "text": [
            "[I 2024-12-14 14:34:37,597] A new study created in memory with name: no-name-efe7a59b-ff38-4a5d-851d-572f9126f62f\n",
            "[I 2024-12-14 14:34:39,143] Trial 0 finished with value: 0.7463492063492063 and parameters: {'n_estimators': 212, 'max_depth': 41, 'min_samples_split': 6, 'min_samples_leaf': 6, 'criterion': 'gini'}. Best is trial 0 with value: 0.7463492063492063.\n",
            "[I 2024-12-14 14:34:45,291] Trial 1 finished with value: 0.8082539682539682 and parameters: {'n_estimators': 731, 'max_depth': 40, 'min_samples_split': 8, 'min_samples_leaf': 3, 'criterion': 'entropy'}. Best is trial 1 with value: 0.8082539682539682.\n",
            "[I 2024-12-14 14:34:47,392] Trial 2 finished with value: 0.7687301587301587 and parameters: {'n_estimators': 216, 'max_depth': 41, 'min_samples_split': 3, 'min_samples_leaf': 4, 'criterion': 'gini'}. Best is trial 1 with value: 0.8082539682539682.\n",
            "[I 2024-12-14 14:34:52,686] Trial 3 finished with value: 0.7238095238095238 and parameters: {'n_estimators': 814, 'max_depth': 8, 'min_samples_split': 6, 'min_samples_leaf': 9, 'criterion': 'gini'}. Best is trial 1 with value: 0.8082539682539682.\n",
            "[I 2024-12-14 14:34:54,978] Trial 4 finished with value: 0.8193650793650793 and parameters: {'n_estimators': 332, 'max_depth': 10, 'min_samples_split': 4, 'min_samples_leaf': 2, 'criterion': 'gini'}. Best is trial 4 with value: 0.8193650793650793.\n",
            "[I 2024-12-14 14:34:59,439] Trial 5 finished with value: 0.718095238095238 and parameters: {'n_estimators': 544, 'max_depth': 15, 'min_samples_split': 10, 'min_samples_leaf': 10, 'criterion': 'gini'}. Best is trial 4 with value: 0.8193650793650793.\n",
            "[I 2024-12-14 14:35:02,256] Trial 6 finished with value: 0.7352380952380952 and parameters: {'n_estimators': 326, 'max_depth': 40, 'min_samples_split': 5, 'min_samples_leaf': 9, 'criterion': 'entropy'}. Best is trial 4 with value: 0.8193650793650793.\n",
            "[I 2024-12-14 14:35:06,825] Trial 7 finished with value: 0.7350793650793651 and parameters: {'n_estimators': 721, 'max_depth': 39, 'min_samples_split': 4, 'min_samples_leaf': 8, 'criterion': 'gini'}. Best is trial 4 with value: 0.8193650793650793.\n",
            "[I 2024-12-14 14:35:09,286] Trial 8 finished with value: 0.7180952380952381 and parameters: {'n_estimators': 369, 'max_depth': 34, 'min_samples_split': 5, 'min_samples_leaf': 9, 'criterion': 'gini'}. Best is trial 4 with value: 0.8193650793650793.\n",
            "[I 2024-12-14 14:35:17,512] Trial 9 finished with value: 0.7744444444444445 and parameters: {'n_estimators': 992, 'max_depth': 47, 'min_samples_split': 3, 'min_samples_leaf': 4, 'criterion': 'gini'}. Best is trial 4 with value: 0.8193650793650793.\n",
            "[I 2024-12-14 14:35:21,253] Trial 10 finished with value: 0.8761904761904761 and parameters: {'n_estimators': 486, 'max_depth': 20, 'min_samples_split': 2, 'min_samples_leaf': 1, 'criterion': 'entropy'}. Best is trial 10 with value: 0.8761904761904761.\n",
            "[I 2024-12-14 14:35:25,044] Trial 11 finished with value: 0.8761904761904761 and parameters: {'n_estimators': 489, 'max_depth': 21, 'min_samples_split': 2, 'min_samples_leaf': 1, 'criterion': 'entropy'}. Best is trial 10 with value: 0.8761904761904761.\n",
            "[I 2024-12-14 14:35:30,820] Trial 12 finished with value: 0.8704761904761904 and parameters: {'n_estimators': 529, 'max_depth': 22, 'min_samples_split': 2, 'min_samples_leaf': 1, 'criterion': 'entropy'}. Best is trial 10 with value: 0.8761904761904761.\n",
            "[I 2024-12-14 14:35:34,320] Trial 13 finished with value: 0.8761904761904761 and parameters: {'n_estimators': 443, 'max_depth': 24, 'min_samples_split': 2, 'min_samples_leaf': 1, 'criterion': 'entropy'}. Best is trial 10 with value: 0.8761904761904761.\n",
            "[I 2024-12-14 14:35:38,633] Trial 14 finished with value: 0.7461904761904762 and parameters: {'n_estimators': 654, 'max_depth': 18, 'min_samples_split': 2, 'min_samples_leaf': 6, 'criterion': 'entropy'}. Best is trial 10 with value: 0.8761904761904761.\n",
            "[I 2024-12-14 14:35:39,373] Trial 15 finished with value: 0.8082539682539682 and parameters: {'n_estimators': 103, 'max_depth': 29, 'min_samples_split': 8, 'min_samples_leaf': 3, 'criterion': 'entropy'}. Best is trial 10 with value: 0.8761904761904761.\n",
            "[I 2024-12-14 14:35:43,973] Trial 16 finished with value: 0.7804761904761904 and parameters: {'n_estimators': 452, 'max_depth': 3, 'min_samples_split': 3, 'min_samples_leaf': 1, 'criterion': 'entropy'}. Best is trial 10 with value: 0.8761904761904761.\n",
            "[I 2024-12-14 14:35:48,085] Trial 17 finished with value: 0.8025396825396826 and parameters: {'n_estimators': 605, 'max_depth': 30, 'min_samples_split': 8, 'min_samples_leaf': 3, 'criterion': 'entropy'}. Best is trial 10 with value: 0.8761904761904761.\n",
            "[I 2024-12-14 14:35:53,709] Trial 18 finished with value: 0.7630158730158729 and parameters: {'n_estimators': 855, 'max_depth': 15, 'min_samples_split': 4, 'min_samples_leaf': 5, 'criterion': 'entropy'}. Best is trial 10 with value: 0.8761904761904761.\n",
            "[I 2024-12-14 14:35:58,579] Trial 19 finished with value: 0.8307936507936509 and parameters: {'n_estimators': 450, 'max_depth': 20, 'min_samples_split': 2, 'min_samples_leaf': 2, 'criterion': 'entropy'}. Best is trial 10 with value: 0.8761904761904761.\n",
            "[I 2024-12-14 14:36:02,685] Trial 20 finished with value: 0.7349206349206349 and parameters: {'n_estimators': 634, 'max_depth': 26, 'min_samples_split': 6, 'min_samples_leaf': 7, 'criterion': 'entropy'}. Best is trial 10 with value: 0.8761904761904761.\n",
            "[I 2024-12-14 14:36:06,237] Trial 21 finished with value: 0.8761904761904761 and parameters: {'n_estimators': 454, 'max_depth': 25, 'min_samples_split': 2, 'min_samples_leaf': 1, 'criterion': 'entropy'}. Best is trial 10 with value: 0.8761904761904761.\n",
            "[I 2024-12-14 14:36:09,260] Trial 22 finished with value: 0.8365079365079365 and parameters: {'n_estimators': 388, 'max_depth': 23, 'min_samples_split': 3, 'min_samples_leaf': 2, 'criterion': 'entropy'}. Best is trial 10 with value: 0.8761904761904761.\n",
            "[I 2024-12-14 14:36:12,714] Trial 23 finished with value: 0.8704761904761904 and parameters: {'n_estimators': 277, 'max_depth': 16, 'min_samples_split': 2, 'min_samples_leaf': 1, 'criterion': 'entropy'}. Best is trial 10 with value: 0.8761904761904761.\n",
            "[I 2024-12-14 14:36:16,063] Trial 24 finished with value: 0.830952380952381 and parameters: {'n_estimators': 487, 'max_depth': 11, 'min_samples_split': 3, 'min_samples_leaf': 2, 'criterion': 'entropy'}. Best is trial 10 with value: 0.8761904761904761.\n",
            "[I 2024-12-14 14:36:19,803] Trial 25 finished with value: 0.785873015873016 and parameters: {'n_estimators': 565, 'max_depth': 33, 'min_samples_split': 4, 'min_samples_leaf': 4, 'criterion': 'entropy'}. Best is trial 10 with value: 0.8761904761904761.\n",
            "[I 2024-12-14 14:36:22,769] Trial 26 finished with value: 0.8536507936507937 and parameters: {'n_estimators': 410, 'max_depth': 20, 'min_samples_split': 5, 'min_samples_leaf': 1, 'criterion': 'entropy'}. Best is trial 10 with value: 0.8761904761904761.\n",
            "[I 2024-12-14 14:36:27,855] Trial 27 finished with value: 0.8025396825396826 and parameters: {'n_estimators': 523, 'max_depth': 31, 'min_samples_split': 2, 'min_samples_leaf': 3, 'criterion': 'entropy'}. Best is trial 10 with value: 0.8761904761904761.\n",
            "[I 2024-12-14 14:36:29,837] Trial 28 finished with value: 0.8307936507936509 and parameters: {'n_estimators': 287, 'max_depth': 27, 'min_samples_split': 3, 'min_samples_leaf': 2, 'criterion': 'entropy'}. Best is trial 10 with value: 0.8761904761904761.\n",
            "[I 2024-12-14 14:36:34,630] Trial 29 finished with value: 0.7573015873015873 and parameters: {'n_estimators': 726, 'max_depth': 36, 'min_samples_split': 9, 'min_samples_leaf': 5, 'criterion': 'entropy'}. Best is trial 10 with value: 0.8761904761904761.\n",
            "[I 2024-12-14 14:36:35,518] Trial 30 finished with value: 0.8592063492063492 and parameters: {'n_estimators': 118, 'max_depth': 12, 'min_samples_split': 4, 'min_samples_leaf': 1, 'criterion': 'entropy'}. Best is trial 10 with value: 0.8761904761904761.\n",
            "[I 2024-12-14 14:36:40,392] Trial 31 finished with value: 0.8761904761904761 and parameters: {'n_estimators': 440, 'max_depth': 25, 'min_samples_split': 2, 'min_samples_leaf': 1, 'criterion': 'entropy'}. Best is trial 10 with value: 0.8761904761904761.\n",
            "[I 2024-12-14 14:36:44,149] Trial 32 finished with value: 0.825079365079365 and parameters: {'n_estimators': 485, 'max_depth': 23, 'min_samples_split': 7, 'min_samples_leaf': 2, 'criterion': 'entropy'}. Best is trial 10 with value: 0.8761904761904761.\n",
            "[I 2024-12-14 14:36:48,645] Trial 33 finished with value: 0.8704761904761904 and parameters: {'n_estimators': 583, 'max_depth': 19, 'min_samples_split': 2, 'min_samples_leaf': 1, 'criterion': 'entropy'}. Best is trial 10 with value: 0.8761904761904761.\n",
            "[I 2024-12-14 14:36:50,067] Trial 34 finished with value: 0.8025396825396826 and parameters: {'n_estimators': 209, 'max_depth': 27, 'min_samples_split': 3, 'min_samples_leaf': 3, 'criterion': 'entropy'}. Best is trial 10 with value: 0.8761904761904761.\n",
            "[I 2024-12-14 14:36:56,344] Trial 35 finished with value: 0.8195238095238094 and parameters: {'n_estimators': 664, 'max_depth': 23, 'min_samples_split': 2, 'min_samples_leaf': 2, 'criterion': 'entropy'}. Best is trial 10 with value: 0.8761904761904761.\n",
            "[I 2024-12-14 14:36:58,840] Trial 36 finished with value: 0.7969841269841269 and parameters: {'n_estimators': 359, 'max_depth': 17, 'min_samples_split': 3, 'min_samples_leaf': 3, 'criterion': 'entropy'}. Best is trial 10 with value: 0.8761904761904761.\n",
            "[I 2024-12-14 14:37:02,612] Trial 37 finished with value: 0.8649206349206349 and parameters: {'n_estimators': 492, 'max_depth': 13, 'min_samples_split': 2, 'min_samples_leaf': 1, 'criterion': 'gini'}. Best is trial 10 with value: 0.8761904761904761.\n",
            "[I 2024-12-14 14:37:05,451] Trial 38 finished with value: 0.8138095238095238 and parameters: {'n_estimators': 414, 'max_depth': 7, 'min_samples_split': 3, 'min_samples_leaf': 2, 'criterion': 'entropy'}. Best is trial 10 with value: 0.8761904761904761.\n",
            "[I 2024-12-14 14:37:08,373] Trial 39 finished with value: 0.7687301587301587 and parameters: {'n_estimators': 297, 'max_depth': 21, 'min_samples_split': 4, 'min_samples_leaf': 4, 'criterion': 'gini'}. Best is trial 10 with value: 0.8761904761904761.\n",
            "[I 2024-12-14 14:37:11,100] Trial 40 finished with value: 0.8592063492063492 and parameters: {'n_estimators': 242, 'max_depth': 50, 'min_samples_split': 5, 'min_samples_leaf': 1, 'criterion': 'entropy'}. Best is trial 10 with value: 0.8761904761904761.\n",
            "[I 2024-12-14 14:37:14,510] Trial 41 finished with value: 0.8704761904761904 and parameters: {'n_estimators': 436, 'max_depth': 25, 'min_samples_split': 2, 'min_samples_leaf': 1, 'criterion': 'entropy'}. Best is trial 10 with value: 0.8761904761904761.\n",
            "[I 2024-12-14 14:37:16,937] Trial 42 finished with value: 0.8307936507936509 and parameters: {'n_estimators': 351, 'max_depth': 25, 'min_samples_split': 2, 'min_samples_leaf': 2, 'criterion': 'entropy'}. Best is trial 10 with value: 0.8761904761904761.\n",
            "[I 2024-12-14 14:37:20,791] Trial 43 finished with value: 0.8706349206349205 and parameters: {'n_estimators': 523, 'max_depth': 29, 'min_samples_split': 3, 'min_samples_leaf': 1, 'criterion': 'entropy'}. Best is trial 10 with value: 0.8761904761904761.\n",
            "[I 2024-12-14 14:37:25,964] Trial 44 finished with value: 0.8306349206349205 and parameters: {'n_estimators': 480, 'max_depth': 25, 'min_samples_split': 2, 'min_samples_leaf': 2, 'criterion': 'gini'}. Best is trial 10 with value: 0.8761904761904761.\n",
            "[I 2024-12-14 14:37:29,107] Trial 45 finished with value: 0.8761904761904761 and parameters: {'n_estimators': 403, 'max_depth': 18, 'min_samples_split': 2, 'min_samples_leaf': 1, 'criterion': 'entropy'}. Best is trial 10 with value: 0.8761904761904761.\n",
            "[I 2024-12-14 14:37:32,982] Trial 46 finished with value: 0.7295238095238096 and parameters: {'n_estimators': 603, 'max_depth': 33, 'min_samples_split': 10, 'min_samples_leaf': 10, 'criterion': 'entropy'}. Best is trial 10 with value: 0.8761904761904761.\n",
            "[I 2024-12-14 14:37:37,248] Trial 47 finished with value: 0.7350793650793651 and parameters: {'n_estimators': 557, 'max_depth': 14, 'min_samples_split': 7, 'min_samples_leaf': 8, 'criterion': 'entropy'}. Best is trial 10 with value: 0.8761904761904761.\n",
            "[I 2024-12-14 14:37:41,440] Trial 48 finished with value: 0.7912698412698412 and parameters: {'n_estimators': 452, 'max_depth': 37, 'min_samples_split': 3, 'min_samples_leaf': 3, 'criterion': 'gini'}. Best is trial 10 with value: 0.8761904761904761.\n",
            "[I 2024-12-14 14:37:44,088] Trial 49 finished with value: 0.8703174603174603 and parameters: {'n_estimators': 331, 'max_depth': 28, 'min_samples_split': 2, 'min_samples_leaf': 1, 'criterion': 'entropy'}. Best is trial 10 with value: 0.8761904761904761.\n",
            "[I 2024-12-14 14:37:49,583] Trial 50 finished with value: 0.8306349206349205 and parameters: {'n_estimators': 789, 'max_depth': 21, 'min_samples_split': 3, 'min_samples_leaf': 2, 'criterion': 'entropy'}. Best is trial 10 with value: 0.8761904761904761.\n",
            "[I 2024-12-14 14:37:53,988] Trial 51 finished with value: 0.8761904761904761 and parameters: {'n_estimators': 392, 'max_depth': 19, 'min_samples_split': 2, 'min_samples_leaf': 1, 'criterion': 'entropy'}. Best is trial 10 with value: 0.8761904761904761.\n",
            "[I 2024-12-14 14:37:57,469] Trial 52 finished with value: 0.8704761904761904 and parameters: {'n_estimators': 410, 'max_depth': 17, 'min_samples_split': 2, 'min_samples_leaf': 1, 'criterion': 'entropy'}. Best is trial 10 with value: 0.8761904761904761.\n",
            "[I 2024-12-14 14:38:01,485] Trial 53 finished with value: 0.8704761904761904 and parameters: {'n_estimators': 527, 'max_depth': 23, 'min_samples_split': 2, 'min_samples_leaf': 1, 'criterion': 'entropy'}. Best is trial 10 with value: 0.8761904761904761.\n",
            "[I 2024-12-14 14:38:04,585] Trial 54 finished with value: 0.8252380952380953 and parameters: {'n_estimators': 454, 'max_depth': 9, 'min_samples_split': 4, 'min_samples_leaf': 2, 'criterion': 'entropy'}. Best is trial 10 with value: 0.8761904761904761.\n",
            "[I 2024-12-14 14:38:10,312] Trial 55 finished with value: 0.8761904761904761 and parameters: {'n_estimators': 510, 'max_depth': 31, 'min_samples_split': 2, 'min_samples_leaf': 1, 'criterion': 'entropy'}. Best is trial 10 with value: 0.8761904761904761.\n",
            "[I 2024-12-14 14:38:12,805] Trial 56 finished with value: 0.7461904761904761 and parameters: {'n_estimators': 371, 'max_depth': 18, 'min_samples_split': 3, 'min_samples_leaf': 6, 'criterion': 'entropy'}. Best is trial 10 with value: 0.8761904761904761.\n",
            "[I 2024-12-14 14:38:21,636] Trial 57 finished with value: 0.8084126984126984 and parameters: {'n_estimators': 981, 'max_depth': 24, 'min_samples_split': 3, 'min_samples_leaf': 3, 'criterion': 'entropy'}. Best is trial 10 with value: 0.8761904761904761.\n",
            "[I 2024-12-14 14:38:25,937] Trial 58 finished with value: 0.8647619047619047 and parameters: {'n_estimators': 431, 'max_depth': 21, 'min_samples_split': 2, 'min_samples_leaf': 1, 'criterion': 'gini'}. Best is trial 10 with value: 0.8761904761904761.\n",
            "[I 2024-12-14 14:38:28,268] Trial 59 finished with value: 0.8307936507936509 and parameters: {'n_estimators': 315, 'max_depth': 15, 'min_samples_split': 3, 'min_samples_leaf': 2, 'criterion': 'entropy'}. Best is trial 10 with value: 0.8761904761904761.\n",
            "[I 2024-12-14 14:38:33,009] Trial 60 finished with value: 0.8195238095238094 and parameters: {'n_estimators': 673, 'max_depth': 27, 'min_samples_split': 2, 'min_samples_leaf': 2, 'criterion': 'entropy'}. Best is trial 10 with value: 0.8761904761904761.\n",
            "[I 2024-12-14 14:38:37,318] Trial 61 finished with value: 0.8704761904761904 and parameters: {'n_estimators': 383, 'max_depth': 19, 'min_samples_split': 2, 'min_samples_leaf': 1, 'criterion': 'entropy'}. Best is trial 10 with value: 0.8761904761904761.\n",
            "[I 2024-12-14 14:38:41,259] Trial 62 finished with value: 0.8761904761904761 and parameters: {'n_estimators': 401, 'max_depth': 19, 'min_samples_split': 2, 'min_samples_leaf': 1, 'criterion': 'entropy'}. Best is trial 10 with value: 0.8761904761904761.\n",
            "[I 2024-12-14 14:38:45,045] Trial 63 finished with value: 0.8761904761904761 and parameters: {'n_estimators': 473, 'max_depth': 22, 'min_samples_split': 2, 'min_samples_leaf': 1, 'criterion': 'entropy'}. Best is trial 10 with value: 0.8761904761904761.\n",
            "[I 2024-12-14 14:38:48,926] Trial 64 finished with value: 0.8365079365079365 and parameters: {'n_estimators': 552, 'max_depth': 16, 'min_samples_split': 3, 'min_samples_leaf': 2, 'criterion': 'entropy'}. Best is trial 10 with value: 0.8761904761904761.\n",
            "[I 2024-12-14 14:38:51,781] Trial 65 finished with value: 0.8422222222222222 and parameters: {'n_estimators': 252, 'max_depth': 44, 'min_samples_split': 9, 'min_samples_leaf': 1, 'criterion': 'entropy'}. Best is trial 10 with value: 0.8761904761904761.\n",
            "[I 2024-12-14 14:38:55,493] Trial 66 finished with value: 0.8307936507936509 and parameters: {'n_estimators': 428, 'max_depth': 26, 'min_samples_split': 2, 'min_samples_leaf': 2, 'criterion': 'entropy'}. Best is trial 10 with value: 0.8761904761904761.\n",
            "[I 2024-12-14 14:38:58,165] Trial 67 finished with value: 0.8647619047619047 and parameters: {'n_estimators': 345, 'max_depth': 20, 'min_samples_split': 3, 'min_samples_leaf': 1, 'criterion': 'entropy'}. Best is trial 10 with value: 0.8761904761904761.\n",
            "[I 2024-12-14 14:39:01,509] Trial 68 finished with value: 0.7293650793650793 and parameters: {'n_estimators': 500, 'max_depth': 22, 'min_samples_split': 2, 'min_samples_leaf': 7, 'criterion': 'entropy'}. Best is trial 10 with value: 0.8761904761904761.\n",
            "[I 2024-12-14 14:39:05,477] Trial 69 finished with value: 0.8307936507936509 and parameters: {'n_estimators': 466, 'max_depth': 30, 'min_samples_split': 2, 'min_samples_leaf': 2, 'criterion': 'entropy'}. Best is trial 10 with value: 0.8761904761904761.\n",
            "[I 2024-12-14 14:39:09,259] Trial 70 finished with value: 0.8536507936507937 and parameters: {'n_estimators': 389, 'max_depth': 24, 'min_samples_split': 5, 'min_samples_leaf': 1, 'criterion': 'entropy'}. Best is trial 10 with value: 0.8761904761904761.\n",
            "[I 2024-12-14 14:39:13,752] Trial 71 finished with value: 0.8704761904761904 and parameters: {'n_estimators': 579, 'max_depth': 31, 'min_samples_split': 2, 'min_samples_leaf': 1, 'criterion': 'entropy'}. Best is trial 10 with value: 0.8761904761904761.\n",
            "[I 2024-12-14 14:39:17,678] Trial 72 finished with value: 0.8761904761904761 and parameters: {'n_estimators': 508, 'max_depth': 18, 'min_samples_split': 2, 'min_samples_leaf': 1, 'criterion': 'entropy'}. Best is trial 10 with value: 0.8761904761904761.\n",
            "[I 2024-12-14 14:39:23,493] Trial 73 finished with value: 0.8761904761904761 and parameters: {'n_estimators': 514, 'max_depth': 29, 'min_samples_split': 2, 'min_samples_leaf': 1, 'criterion': 'entropy'}. Best is trial 10 with value: 0.8761904761904761.\n",
            "[I 2024-12-14 14:39:28,072] Trial 74 finished with value: 0.8592063492063492 and parameters: {'n_estimators': 625, 'max_depth': 32, 'min_samples_split': 3, 'min_samples_leaf': 1, 'criterion': 'entropy'}. Best is trial 10 with value: 0.8761904761904761.\n",
            "[I 2024-12-14 14:39:31,665] Trial 75 finished with value: 0.7574603174603174 and parameters: {'n_estimators': 544, 'max_depth': 28, 'min_samples_split': 2, 'min_samples_leaf': 5, 'criterion': 'entropy'}. Best is trial 10 with value: 0.8761904761904761.\n",
            "[I 2024-12-14 14:39:35,908] Trial 76 finished with value: 0.8307936507936509 and parameters: {'n_estimators': 424, 'max_depth': 24, 'min_samples_split': 3, 'min_samples_leaf': 2, 'criterion': 'entropy'}. Best is trial 10 with value: 0.8761904761904761.\n",
            "[I 2024-12-14 14:39:39,531] Trial 77 finished with value: 0.8192063492063492 and parameters: {'n_estimators': 451, 'max_depth': 35, 'min_samples_split': 2, 'min_samples_leaf': 2, 'criterion': 'gini'}. Best is trial 10 with value: 0.8761904761904761.\n",
            "[I 2024-12-14 14:39:43,077] Trial 78 finished with value: 0.8536507936507937 and parameters: {'n_estimators': 491, 'max_depth': 26, 'min_samples_split': 6, 'min_samples_leaf': 1, 'criterion': 'entropy'}. Best is trial 10 with value: 0.8761904761904761.\n",
            "[I 2024-12-14 14:39:45,823] Trial 79 finished with value: 0.8649206349206349 and parameters: {'n_estimators': 369, 'max_depth': 20, 'min_samples_split': 4, 'min_samples_leaf': 1, 'criterion': 'entropy'}. Best is trial 10 with value: 0.8761904761904761.\n",
            "[I 2024-12-14 14:39:52,733] Trial 80 finished with value: 0.7968253968253969 and parameters: {'n_estimators': 402, 'max_depth': 17, 'min_samples_split': 3, 'min_samples_leaf': 3, 'criterion': 'entropy'}. Best is trial 10 with value: 0.8761904761904761.\n",
            "[I 2024-12-14 14:39:58,166] Trial 81 finished with value: 0.8761904761904761 and parameters: {'n_estimators': 395, 'max_depth': 22, 'min_samples_split': 2, 'min_samples_leaf': 1, 'criterion': 'entropy'}. Best is trial 10 with value: 0.8761904761904761.\n",
            "[I 2024-12-14 14:40:01,828] Trial 82 finished with value: 0.8761904761904761 and parameters: {'n_estimators': 469, 'max_depth': 19, 'min_samples_split': 2, 'min_samples_leaf': 1, 'criterion': 'entropy'}. Best is trial 10 with value: 0.8761904761904761.\n",
            "[I 2024-12-14 14:40:06,671] Trial 83 finished with value: 0.8704761904761904 and parameters: {'n_estimators': 437, 'max_depth': 13, 'min_samples_split': 2, 'min_samples_leaf': 1, 'criterion': 'entropy'}. Best is trial 10 with value: 0.8761904761904761.\n",
            "[I 2024-12-14 14:40:09,382] Trial 84 finished with value: 0.8703174603174603 and parameters: {'n_estimators': 338, 'max_depth': 21, 'min_samples_split': 2, 'min_samples_leaf': 1, 'criterion': 'entropy'}. Best is trial 10 with value: 0.8761904761904761.\n",
            "[I 2024-12-14 14:40:12,232] Trial 85 finished with value: 0.8307936507936509 and parameters: {'n_estimators': 409, 'max_depth': 15, 'min_samples_split': 2, 'min_samples_leaf': 2, 'criterion': 'entropy'}. Best is trial 10 with value: 0.8761904761904761.\n",
            "[I 2024-12-14 14:40:14,607] Trial 86 finished with value: 0.8703174603174603 and parameters: {'n_estimators': 307, 'max_depth': 18, 'min_samples_split': 2, 'min_samples_leaf': 1, 'criterion': 'entropy'}. Best is trial 10 with value: 0.8761904761904761.\n",
            "[I 2024-12-14 14:40:18,181] Trial 87 finished with value: 0.8592063492063492 and parameters: {'n_estimators': 373, 'max_depth': 24, 'min_samples_split': 3, 'min_samples_leaf': 1, 'criterion': 'entropy'}. Best is trial 10 with value: 0.8761904761904761.\n",
            "[I 2024-12-14 14:40:22,599] Trial 88 finished with value: 0.8249206349206348 and parameters: {'n_estimators': 536, 'max_depth': 19, 'min_samples_split': 2, 'min_samples_leaf': 2, 'criterion': 'gini'}. Best is trial 10 with value: 0.8761904761904761.\n",
            "[I 2024-12-14 14:40:26,505] Trial 89 finished with value: 0.8195238095238094 and parameters: {'n_estimators': 578, 'max_depth': 16, 'min_samples_split': 7, 'min_samples_leaf': 2, 'criterion': 'entropy'}. Best is trial 10 with value: 0.8761904761904761.\n",
            "[I 2024-12-14 14:40:30,331] Trial 90 finished with value: 0.8706349206349205 and parameters: {'n_estimators': 503, 'max_depth': 23, 'min_samples_split': 3, 'min_samples_leaf': 1, 'criterion': 'entropy'}. Best is trial 10 with value: 0.8761904761904761.\n",
            "[I 2024-12-14 14:40:35,395] Trial 91 finished with value: 0.8761904761904761 and parameters: {'n_estimators': 474, 'max_depth': 22, 'min_samples_split': 2, 'min_samples_leaf': 1, 'criterion': 'entropy'}. Best is trial 10 with value: 0.8761904761904761.\n",
            "[I 2024-12-14 14:40:38,955] Trial 92 finished with value: 0.8761904761904761 and parameters: {'n_estimators': 457, 'max_depth': 25, 'min_samples_split': 2, 'min_samples_leaf': 1, 'criterion': 'entropy'}. Best is trial 10 with value: 0.8761904761904761.\n",
            "[I 2024-12-14 14:40:42,642] Trial 93 finished with value: 0.8761904761904761 and parameters: {'n_estimators': 480, 'max_depth': 21, 'min_samples_split': 2, 'min_samples_leaf': 1, 'criterion': 'entropy'}. Best is trial 10 with value: 0.8761904761904761.\n",
            "[I 2024-12-14 14:40:47,372] Trial 94 finished with value: 0.8761904761904761 and parameters: {'n_estimators': 437, 'max_depth': 28, 'min_samples_split': 2, 'min_samples_leaf': 1, 'criterion': 'entropy'}. Best is trial 10 with value: 0.8761904761904761.\n",
            "[I 2024-12-14 14:40:50,721] Trial 95 finished with value: 0.8307936507936509 and parameters: {'n_estimators': 405, 'max_depth': 20, 'min_samples_split': 2, 'min_samples_leaf': 2, 'criterion': 'entropy'}. Best is trial 10 with value: 0.8761904761904761.\n",
            "[I 2024-12-14 14:40:54,938] Trial 96 finished with value: 0.8706349206349205 and parameters: {'n_estimators': 525, 'max_depth': 22, 'min_samples_split': 3, 'min_samples_leaf': 1, 'criterion': 'entropy'}. Best is trial 10 with value: 0.8761904761904761.\n",
            "[I 2024-12-14 14:40:58,040] Trial 97 finished with value: 0.7295238095238095 and parameters: {'n_estimators': 441, 'max_depth': 17, 'min_samples_split': 2, 'min_samples_leaf': 9, 'criterion': 'entropy'}. Best is trial 10 with value: 0.8761904761904761.\n",
            "[I 2024-12-14 14:41:04,004] Trial 98 finished with value: 0.825079365079365 and parameters: {'n_estimators': 601, 'max_depth': 23, 'min_samples_split': 3, 'min_samples_leaf': 2, 'criterion': 'entropy'}. Best is trial 10 with value: 0.8761904761904761.\n",
            "[I 2024-12-14 14:41:07,599] Trial 99 finished with value: 0.8761904761904761 and parameters: {'n_estimators': 461, 'max_depth': 26, 'min_samples_split': 2, 'min_samples_leaf': 1, 'criterion': 'entropy'}. Best is trial 10 with value: 0.8761904761904761.\n",
            "[I 2024-12-14 14:41:10,531] Trial 100 finished with value: 0.8192063492063492 and parameters: {'n_estimators': 423, 'max_depth': 27, 'min_samples_split': 2, 'min_samples_leaf': 2, 'criterion': 'gini'}. Best is trial 10 with value: 0.8761904761904761.\n",
            "[I 2024-12-14 14:41:21,042] Trial 101 finished with value: 0.8761904761904761 and parameters: {'n_estimators': 507, 'max_depth': 18, 'min_samples_split': 2, 'min_samples_leaf': 1, 'criterion': 'entropy'}. Best is trial 10 with value: 0.8761904761904761.\n",
            "[I 2024-12-14 14:41:25,789] Trial 102 finished with value: 0.8761904761904761 and parameters: {'n_estimators': 491, 'max_depth': 19, 'min_samples_split': 2, 'min_samples_leaf': 1, 'criterion': 'entropy'}. Best is trial 10 with value: 0.8761904761904761.\n",
            "[I 2024-12-14 14:41:30,624] Trial 103 finished with value: 0.8761904761904761 and parameters: {'n_estimators': 561, 'max_depth': 14, 'min_samples_split': 2, 'min_samples_leaf': 1, 'criterion': 'entropy'}. Best is trial 10 with value: 0.8761904761904761.\n",
            "[I 2024-12-14 14:41:34,311] Trial 104 finished with value: 0.8760317460317459 and parameters: {'n_estimators': 357, 'max_depth': 16, 'min_samples_split': 2, 'min_samples_leaf': 1, 'criterion': 'entropy'}. Best is trial 10 with value: 0.8761904761904761.\n",
            "[I 2024-12-14 14:41:37,769] Trial 105 finished with value: 0.785873015873016 and parameters: {'n_estimators': 514, 'max_depth': 20, 'min_samples_split': 2, 'min_samples_leaf': 4, 'criterion': 'entropy'}. Best is trial 10 with value: 0.8761904761904761.\n",
            "[I 2024-12-14 14:41:40,809] Trial 106 finished with value: 0.8704761904761904 and parameters: {'n_estimators': 390, 'max_depth': 22, 'min_samples_split': 2, 'min_samples_leaf': 1, 'criterion': 'entropy'}. Best is trial 10 with value: 0.8761904761904761.\n",
            "[I 2024-12-14 14:41:44,980] Trial 107 finished with value: 0.8592063492063492 and parameters: {'n_estimators': 470, 'max_depth': 18, 'min_samples_split': 3, 'min_samples_leaf': 1, 'criterion': 'entropy'}. Best is trial 10 with value: 0.8761904761904761.\n",
            "[I 2024-12-14 14:41:49,619] Trial 108 finished with value: 0.8365079365079365 and parameters: {'n_estimators': 545, 'max_depth': 25, 'min_samples_split': 2, 'min_samples_leaf': 2, 'criterion': 'entropy'}. Best is trial 10 with value: 0.8761904761904761.\n",
            "[I 2024-12-14 14:41:52,776] Trial 109 finished with value: 0.8649206349206349 and parameters: {'n_estimators': 420, 'max_depth': 39, 'min_samples_split': 3, 'min_samples_leaf': 1, 'criterion': 'entropy'}. Best is trial 10 with value: 0.8761904761904761.\n",
            "[I 2024-12-14 14:41:55,353] Trial 110 finished with value: 0.8703174603174603 and parameters: {'n_estimators': 321, 'max_depth': 24, 'min_samples_split': 2, 'min_samples_leaf': 1, 'criterion': 'entropy'}. Best is trial 10 with value: 0.8761904761904761.\n",
            "[I 2024-12-14 14:42:00,403] Trial 111 finished with value: 0.8761904761904761 and parameters: {'n_estimators': 503, 'max_depth': 29, 'min_samples_split': 2, 'min_samples_leaf': 1, 'criterion': 'entropy'}. Best is trial 10 with value: 0.8761904761904761.\n",
            "[I 2024-12-14 14:42:04,951] Trial 112 finished with value: 0.8761904761904761 and parameters: {'n_estimators': 518, 'max_depth': 30, 'min_samples_split': 2, 'min_samples_leaf': 1, 'criterion': 'entropy'}. Best is trial 10 with value: 0.8761904761904761.\n",
            "[I 2024-12-14 14:42:09,424] Trial 113 finished with value: 0.8761904761904761 and parameters: {'n_estimators': 488, 'max_depth': 31, 'min_samples_split': 2, 'min_samples_leaf': 1, 'criterion': 'entropy'}. Best is trial 10 with value: 0.8761904761904761.\n",
            "[I 2024-12-14 14:42:15,088] Trial 114 finished with value: 0.8761904761904761 and parameters: {'n_estimators': 446, 'max_depth': 33, 'min_samples_split': 2, 'min_samples_leaf': 1, 'criterion': 'entropy'}. Best is trial 10 with value: 0.8761904761904761.\n",
            "[I 2024-12-14 14:42:19,069] Trial 115 finished with value: 0.7238095238095237 and parameters: {'n_estimators': 530, 'max_depth': 28, 'min_samples_split': 2, 'min_samples_leaf': 10, 'criterion': 'entropy'}. Best is trial 10 with value: 0.8761904761904761.\n",
            "[I 2024-12-14 14:42:22,356] Trial 116 finished with value: 0.8307936507936509 and parameters: {'n_estimators': 471, 'max_depth': 19, 'min_samples_split': 2, 'min_samples_leaf': 2, 'criterion': 'entropy'}. Best is trial 10 with value: 0.8761904761904761.\n",
            "[I 2024-12-14 14:42:25,209] Trial 117 finished with value: 0.8592063492063492 and parameters: {'n_estimators': 382, 'max_depth': 21, 'min_samples_split': 3, 'min_samples_leaf': 1, 'criterion': 'entropy'}. Best is trial 10 with value: 0.8761904761904761.\n",
            "[I 2024-12-14 14:42:30,534] Trial 118 finished with value: 0.7295238095238095 and parameters: {'n_estimators': 570, 'max_depth': 17, 'min_samples_split': 2, 'min_samples_leaf': 8, 'criterion': 'entropy'}. Best is trial 10 with value: 0.8761904761904761.\n",
            "[I 2024-12-14 14:42:33,441] Trial 119 finished with value: 0.8193650793650793 and parameters: {'n_estimators': 416, 'max_depth': 25, 'min_samples_split': 3, 'min_samples_leaf': 2, 'criterion': 'gini'}. Best is trial 10 with value: 0.8761904761904761.\n",
            "[I 2024-12-14 14:42:36,504] Trial 120 finished with value: 0.7746031746031745 and parameters: {'n_estimators': 457, 'max_depth': 4, 'min_samples_split': 2, 'min_samples_leaf': 1, 'criterion': 'entropy'}. Best is trial 10 with value: 0.8761904761904761.\n",
            "[I 2024-12-14 14:42:39,627] Trial 121 finished with value: 0.8704761904761904 and parameters: {'n_estimators': 400, 'max_depth': 22, 'min_samples_split': 2, 'min_samples_leaf': 1, 'criterion': 'entropy'}. Best is trial 10 with value: 0.8761904761904761.\n",
            "[I 2024-12-14 14:42:43,563] Trial 122 finished with value: 0.8703174603174603 and parameters: {'n_estimators': 352, 'max_depth': 23, 'min_samples_split': 2, 'min_samples_leaf': 1, 'criterion': 'entropy'}. Best is trial 10 with value: 0.8761904761904761.\n",
            "[I 2024-12-14 14:42:46,989] Trial 123 finished with value: 0.8704761904761904 and parameters: {'n_estimators': 392, 'max_depth': 21, 'min_samples_split': 2, 'min_samples_leaf': 1, 'criterion': 'entropy'}. Best is trial 10 with value: 0.8761904761904761.\n",
            "[I 2024-12-14 14:42:49,807] Trial 124 finished with value: 0.7349206349206349 and parameters: {'n_estimators': 431, 'max_depth': 20, 'min_samples_split': 2, 'min_samples_leaf': 7, 'criterion': 'entropy'}. Best is trial 10 with value: 0.8761904761904761.\n",
            "[I 2024-12-14 14:42:53,553] Trial 125 finished with value: 0.8761904761904761 and parameters: {'n_estimators': 484, 'max_depth': 29, 'min_samples_split': 2, 'min_samples_leaf': 1, 'criterion': 'entropy'}. Best is trial 10 with value: 0.8761904761904761.\n",
            "[I 2024-12-14 14:42:58,692] Trial 126 finished with value: 0.847936507936508 and parameters: {'n_estimators': 511, 'max_depth': 24, 'min_samples_split': 9, 'min_samples_leaf': 1, 'criterion': 'entropy'}. Best is trial 10 with value: 0.8761904761904761.\n",
            "[I 2024-12-14 14:43:00,101] Trial 127 finished with value: 0.8363492063492064 and parameters: {'n_estimators': 156, 'max_depth': 26, 'min_samples_split': 2, 'min_samples_leaf': 2, 'criterion': 'entropy'}. Best is trial 10 with value: 0.8761904761904761.\n",
            "[I 2024-12-14 14:43:03,697] Trial 128 finished with value: 0.8761904761904761 and parameters: {'n_estimators': 443, 'max_depth': 18, 'min_samples_split': 2, 'min_samples_leaf': 1, 'criterion': 'entropy'}. Best is trial 10 with value: 0.8761904761904761.\n",
            "[I 2024-12-14 14:43:07,760] Trial 129 finished with value: 0.8536507936507937 and parameters: {'n_estimators': 539, 'max_depth': 23, 'min_samples_split': 6, 'min_samples_leaf': 1, 'criterion': 'entropy'}. Best is trial 10 with value: 0.8761904761904761.\n",
            "[I 2024-12-14 14:43:12,997] Trial 130 finished with value: 0.8706349206349205 and parameters: {'n_estimators': 465, 'max_depth': 27, 'min_samples_split': 3, 'min_samples_leaf': 1, 'criterion': 'entropy'}. Best is trial 10 with value: 0.8761904761904761.\n",
            "[I 2024-12-14 14:43:17,002] Trial 131 finished with value: 0.8761904761904761 and parameters: {'n_estimators': 495, 'max_depth': 19, 'min_samples_split': 2, 'min_samples_leaf': 1, 'criterion': 'entropy'}. Best is trial 10 with value: 0.8761904761904761.\n",
            "[I 2024-12-14 14:43:19,934] Trial 132 finished with value: 0.8704761904761904 and parameters: {'n_estimators': 368, 'max_depth': 22, 'min_samples_split': 2, 'min_samples_leaf': 1, 'criterion': 'entropy'}. Best is trial 10 with value: 0.8761904761904761.\n",
            "[I 2024-12-14 14:43:24,027] Trial 133 finished with value: 0.8761904761904761 and parameters: {'n_estimators': 472, 'max_depth': 20, 'min_samples_split': 2, 'min_samples_leaf': 1, 'criterion': 'entropy'}. Best is trial 10 with value: 0.8761904761904761.\n",
            "[I 2024-12-14 14:43:28,628] Trial 134 finished with value: 0.8704761904761904 and parameters: {'n_estimators': 421, 'max_depth': 19, 'min_samples_split': 2, 'min_samples_leaf': 1, 'criterion': 'entropy'}. Best is trial 10 with value: 0.8761904761904761.\n",
            "[I 2024-12-14 14:43:32,098] Trial 135 finished with value: 0.8761904761904761 and parameters: {'n_estimators': 447, 'max_depth': 21, 'min_samples_split': 2, 'min_samples_leaf': 1, 'criterion': 'entropy'}. Best is trial 10 with value: 0.8761904761904761.\n",
            "[I 2024-12-14 14:43:34,940] Trial 136 finished with value: 0.8307936507936509 and parameters: {'n_estimators': 403, 'max_depth': 15, 'min_samples_split': 2, 'min_samples_leaf': 2, 'criterion': 'entropy'}. Best is trial 10 with value: 0.8761904761904761.\n",
            "[I 2024-12-14 14:43:39,982] Trial 137 finished with value: 0.8761904761904761 and parameters: {'n_estimators': 506, 'max_depth': 17, 'min_samples_split': 2, 'min_samples_leaf': 1, 'criterion': 'entropy'}. Best is trial 10 with value: 0.8761904761904761.\n",
            "[I 2024-12-14 14:43:47,924] Trial 138 finished with value: 0.8592063492063492 and parameters: {'n_estimators': 937, 'max_depth': 16, 'min_samples_split': 3, 'min_samples_leaf': 1, 'criterion': 'entropy'}. Best is trial 10 with value: 0.8761904761904761.\n",
            "[I 2024-12-14 14:43:51,901] Trial 139 finished with value: 0.8704761904761904 and parameters: {'n_estimators': 484, 'max_depth': 18, 'min_samples_split': 2, 'min_samples_leaf': 1, 'criterion': 'gini'}. Best is trial 10 with value: 0.8761904761904761.\n",
            "[I 2024-12-14 14:43:57,559] Trial 140 finished with value: 0.8307936507936509 and parameters: {'n_estimators': 553, 'max_depth': 23, 'min_samples_split': 2, 'min_samples_leaf': 2, 'criterion': 'entropy'}. Best is trial 10 with value: 0.8761904761904761.\n",
            "[I 2024-12-14 14:44:01,324] Trial 141 finished with value: 0.8761904761904761 and parameters: {'n_estimators': 468, 'max_depth': 22, 'min_samples_split': 2, 'min_samples_leaf': 1, 'criterion': 'entropy'}. Best is trial 10 with value: 0.8761904761904761.\n",
            "[I 2024-12-14 14:44:04,721] Trial 142 finished with value: 0.8704761904761904 and parameters: {'n_estimators': 436, 'max_depth': 25, 'min_samples_split': 2, 'min_samples_leaf': 1, 'criterion': 'entropy'}. Best is trial 10 with value: 0.8761904761904761.\n",
            "[I 2024-12-14 14:44:10,176] Trial 143 finished with value: 0.8761904761904761 and parameters: {'n_estimators': 519, 'max_depth': 20, 'min_samples_split': 2, 'min_samples_leaf': 1, 'criterion': 'entropy'}. Best is trial 10 with value: 0.8761904761904761.\n",
            "[I 2024-12-14 14:44:13,947] Trial 144 finished with value: 0.8761904761904761 and parameters: {'n_estimators': 456, 'max_depth': 22, 'min_samples_split': 2, 'min_samples_leaf': 1, 'criterion': 'entropy'}. Best is trial 10 with value: 0.8761904761904761.\n",
            "[I 2024-12-14 14:44:17,212] Trial 145 finished with value: 0.7461904761904762 and parameters: {'n_estimators': 480, 'max_depth': 20, 'min_samples_split': 2, 'min_samples_leaf': 6, 'criterion': 'entropy'}. Best is trial 10 with value: 0.8761904761904761.\n",
            "[I 2024-12-14 14:44:20,399] Trial 146 finished with value: 0.8647619047619047 and parameters: {'n_estimators': 414, 'max_depth': 24, 'min_samples_split': 2, 'min_samples_leaf': 1, 'criterion': 'entropy'}. Best is trial 10 with value: 0.8761904761904761.\n",
            "[I 2024-12-14 14:44:25,000] Trial 147 finished with value: 0.8704761904761904 and parameters: {'n_estimators': 385, 'max_depth': 32, 'min_samples_split': 2, 'min_samples_leaf': 1, 'criterion': 'entropy'}. Best is trial 10 with value: 0.8761904761904761.\n",
            "[I 2024-12-14 14:44:28,844] Trial 148 finished with value: 0.8365079365079365 and parameters: {'n_estimators': 499, 'max_depth': 21, 'min_samples_split': 2, 'min_samples_leaf': 2, 'criterion': 'entropy'}. Best is trial 10 with value: 0.8761904761904761.\n",
            "[I 2024-12-14 14:44:32,994] Trial 149 finished with value: 0.8704761904761904 and parameters: {'n_estimators': 531, 'max_depth': 18, 'min_samples_split': 2, 'min_samples_leaf': 1, 'criterion': 'entropy'}. Best is trial 10 with value: 0.8761904761904761.\n",
            "[I 2024-12-14 14:44:35,683] Trial 150 finished with value: 0.8703174603174603 and parameters: {'n_estimators': 338, 'max_depth': 30, 'min_samples_split': 2, 'min_samples_leaf': 1, 'criterion': 'entropy'}. Best is trial 10 with value: 0.8761904761904761.\n",
            "[I 2024-12-14 14:44:40,639] Trial 151 finished with value: 0.8477777777777777 and parameters: {'n_estimators': 455, 'max_depth': 25, 'min_samples_split': 10, 'min_samples_leaf': 1, 'criterion': 'entropy'}. Best is trial 10 with value: 0.8761904761904761.\n",
            "[I 2024-12-14 14:44:44,354] Trial 152 finished with value: 0.8761904761904761 and parameters: {'n_estimators': 474, 'max_depth': 28, 'min_samples_split': 2, 'min_samples_leaf': 1, 'criterion': 'entropy'}. Best is trial 10 with value: 0.8761904761904761.\n",
            "[I 2024-12-14 14:44:48,003] Trial 153 finished with value: 0.8704761904761904 and parameters: {'n_estimators': 431, 'max_depth': 26, 'min_samples_split': 2, 'min_samples_leaf': 1, 'criterion': 'entropy'}. Best is trial 10 with value: 0.8761904761904761.\n",
            "[I 2024-12-14 14:44:51,567] Trial 154 finished with value: 0.7517460317460317 and parameters: {'n_estimators': 455, 'max_depth': 24, 'min_samples_split': 2, 'min_samples_leaf': 5, 'criterion': 'entropy'}. Best is trial 10 with value: 0.8761904761904761.\n",
            "[I 2024-12-14 14:44:55,578] Trial 155 finished with value: 0.847936507936508 and parameters: {'n_estimators': 396, 'max_depth': 19, 'min_samples_split': 8, 'min_samples_leaf': 1, 'criterion': 'entropy'}. Best is trial 10 with value: 0.8761904761904761.\n",
            "[I 2024-12-14 14:44:59,443] Trial 156 finished with value: 0.8761904761904761 and parameters: {'n_estimators': 501, 'max_depth': 22, 'min_samples_split': 2, 'min_samples_leaf': 1, 'criterion': 'entropy'}. Best is trial 10 with value: 0.8761904761904761.\n",
            "[I 2024-12-14 14:45:02,657] Trial 157 finished with value: 0.8647619047619047 and parameters: {'n_estimators': 418, 'max_depth': 23, 'min_samples_split': 2, 'min_samples_leaf': 1, 'criterion': 'entropy'}. Best is trial 10 with value: 0.8761904761904761.\n",
            "[I 2024-12-14 14:45:07,237] Trial 158 finished with value: 0.8761904761904761 and parameters: {'n_estimators': 477, 'max_depth': 25, 'min_samples_split': 2, 'min_samples_leaf': 1, 'criterion': 'entropy'}. Best is trial 10 with value: 0.8761904761904761.\n",
            "[I 2024-12-14 14:45:10,730] Trial 159 finished with value: 0.8365079365079365 and parameters: {'n_estimators': 372, 'max_depth': 21, 'min_samples_split': 3, 'min_samples_leaf': 2, 'criterion': 'entropy'}. Best is trial 10 with value: 0.8761904761904761.\n",
            "[I 2024-12-14 14:45:14,140] Trial 160 finished with value: 0.8761904761904761 and parameters: {'n_estimators': 441, 'max_depth': 27, 'min_samples_split': 2, 'min_samples_leaf': 1, 'criterion': 'entropy'}. Best is trial 10 with value: 0.8761904761904761.\n",
            "[I 2024-12-14 14:45:17,908] Trial 161 finished with value: 0.8761904761904761 and parameters: {'n_estimators': 484, 'max_depth': 21, 'min_samples_split': 2, 'min_samples_leaf': 1, 'criterion': 'entropy'}. Best is trial 10 with value: 0.8761904761904761.\n",
            "[I 2024-12-14 14:45:23,428] Trial 162 finished with value: 0.8704761904761904 and parameters: {'n_estimators': 520, 'max_depth': 19, 'min_samples_split': 2, 'min_samples_leaf': 1, 'criterion': 'entropy'}. Best is trial 10 with value: 0.8761904761904761.\n",
            "[I 2024-12-14 14:45:27,370] Trial 163 finished with value: 0.8761904761904761 and parameters: {'n_estimators': 464, 'max_depth': 22, 'min_samples_split': 2, 'min_samples_leaf': 1, 'criterion': 'entropy'}. Best is trial 10 with value: 0.8761904761904761.\n",
            "[I 2024-12-14 14:45:31,157] Trial 164 finished with value: 0.8761904761904761 and parameters: {'n_estimators': 492, 'max_depth': 23, 'min_samples_split': 2, 'min_samples_leaf': 1, 'criterion': 'entropy'}. Best is trial 10 with value: 0.8761904761904761.\n",
            "[I 2024-12-14 14:45:34,626] Trial 165 finished with value: 0.8704761904761904 and parameters: {'n_estimators': 431, 'max_depth': 17, 'min_samples_split': 2, 'min_samples_leaf': 1, 'criterion': 'entropy'}. Best is trial 10 with value: 0.8761904761904761.\n",
            "[I 2024-12-14 14:45:39,323] Trial 166 finished with value: 0.8593650793650793 and parameters: {'n_estimators': 456, 'max_depth': 20, 'min_samples_split': 5, 'min_samples_leaf': 1, 'criterion': 'gini'}. Best is trial 10 with value: 0.8761904761904761.\n",
            "[I 2024-12-14 14:45:43,015] Trial 167 finished with value: 0.8761904761904761 and parameters: {'n_estimators': 474, 'max_depth': 21, 'min_samples_split': 2, 'min_samples_leaf': 1, 'criterion': 'entropy'}. Best is trial 10 with value: 0.8761904761904761.\n",
            "[I 2024-12-14 14:45:46,255] Trial 168 finished with value: 0.8761904761904761 and parameters: {'n_estimators': 409, 'max_depth': 18, 'min_samples_split': 2, 'min_samples_leaf': 1, 'criterion': 'entropy'}. Best is trial 10 with value: 0.8761904761904761.\n",
            "[I 2024-12-14 14:45:51,530] Trial 169 finished with value: 0.8761904761904761 and parameters: {'n_estimators': 514, 'max_depth': 24, 'min_samples_split': 2, 'min_samples_leaf': 1, 'criterion': 'entropy'}. Best is trial 10 with value: 0.8761904761904761.\n",
            "[I 2024-12-14 14:45:55,713] Trial 170 finished with value: 0.8365079365079365 and parameters: {'n_estimators': 545, 'max_depth': 26, 'min_samples_split': 2, 'min_samples_leaf': 2, 'criterion': 'entropy'}. Best is trial 10 with value: 0.8761904761904761.\n",
            "[I 2024-12-14 14:45:59,139] Trial 171 finished with value: 0.8761904761904761 and parameters: {'n_estimators': 442, 'max_depth': 27, 'min_samples_split': 2, 'min_samples_leaf': 1, 'criterion': 'entropy'}. Best is trial 10 with value: 0.8761904761904761.\n",
            "[I 2024-12-14 14:46:03,832] Trial 172 finished with value: 0.8704761904761904 and parameters: {'n_estimators': 429, 'max_depth': 30, 'min_samples_split': 2, 'min_samples_leaf': 1, 'criterion': 'entropy'}. Best is trial 10 with value: 0.8761904761904761.\n",
            "[I 2024-12-14 14:46:09,938] Trial 173 finished with value: 0.8761904761904761 and parameters: {'n_estimators': 494, 'max_depth': 19, 'min_samples_split': 2, 'min_samples_leaf': 1, 'criterion': 'entropy'}. Best is trial 10 with value: 0.8761904761904761.\n",
            "[I 2024-12-14 14:46:13,042] Trial 174 finished with value: 0.8704761904761904 and parameters: {'n_estimators': 392, 'max_depth': 28, 'min_samples_split': 2, 'min_samples_leaf': 1, 'criterion': 'entropy'}. Best is trial 10 with value: 0.8761904761904761.\n",
            "[I 2024-12-14 14:46:16,553] Trial 175 finished with value: 0.8761904761904761 and parameters: {'n_estimators': 445, 'max_depth': 28, 'min_samples_split': 2, 'min_samples_leaf': 1, 'criterion': 'entropy'}. Best is trial 10 with value: 0.8761904761904761.\n",
            "[I 2024-12-14 14:46:21,127] Trial 176 finished with value: 0.8761904761904761 and parameters: {'n_estimators': 467, 'max_depth': 20, 'min_samples_split': 2, 'min_samples_leaf': 1, 'criterion': 'entropy'}. Best is trial 10 with value: 0.8761904761904761.\n",
            "[I 2024-12-14 14:46:25,083] Trial 177 finished with value: 0.847936507936508 and parameters: {'n_estimators': 410, 'max_depth': 31, 'min_samples_split': 7, 'min_samples_leaf': 1, 'criterion': 'entropy'}. Best is trial 10 with value: 0.8761904761904761.\n",
            "[I 2024-12-14 14:46:28,595] Trial 178 finished with value: 0.8307936507936509 and parameters: {'n_estimators': 485, 'max_depth': 24, 'min_samples_split': 2, 'min_samples_leaf': 2, 'criterion': 'entropy'}. Best is trial 10 with value: 0.8761904761904761.\n",
            "[I 2024-12-14 14:46:32,691] Trial 179 finished with value: 0.8706349206349205 and parameters: {'n_estimators': 506, 'max_depth': 29, 'min_samples_split': 3, 'min_samples_leaf': 1, 'criterion': 'entropy'}. Best is trial 10 with value: 0.8761904761904761.\n",
            "[I 2024-12-14 14:46:38,367] Trial 180 finished with value: 0.8704761904761904 and parameters: {'n_estimators': 530, 'max_depth': 32, 'min_samples_split': 2, 'min_samples_leaf': 1, 'criterion': 'entropy'}. Best is trial 10 with value: 0.8761904761904761.\n",
            "[I 2024-12-14 14:46:42,011] Trial 181 finished with value: 0.8761904761904761 and parameters: {'n_estimators': 453, 'max_depth': 26, 'min_samples_split': 2, 'min_samples_leaf': 1, 'criterion': 'entropy'}. Best is trial 10 with value: 0.8761904761904761.\n",
            "[I 2024-12-14 14:46:45,640] Trial 182 finished with value: 0.8761904761904761 and parameters: {'n_estimators': 463, 'max_depth': 25, 'min_samples_split': 2, 'min_samples_leaf': 1, 'criterion': 'entropy'}. Best is trial 10 with value: 0.8761904761904761.\n",
            "[I 2024-12-14 14:46:49,918] Trial 183 finished with value: 0.8704761904761904 and parameters: {'n_estimators': 429, 'max_depth': 23, 'min_samples_split': 2, 'min_samples_leaf': 1, 'criterion': 'entropy'}. Best is trial 10 with value: 0.8761904761904761.\n",
            "[I 2024-12-14 14:46:54,290] Trial 184 finished with value: 0.8761904761904761 and parameters: {'n_estimators': 472, 'max_depth': 20, 'min_samples_split': 2, 'min_samples_leaf': 1, 'criterion': 'entropy'}. Best is trial 10 with value: 0.8761904761904761.\n",
            "[I 2024-12-14 14:46:56,793] Trial 185 finished with value: 0.7914285714285715 and parameters: {'n_estimators': 362, 'max_depth': 29, 'min_samples_split': 2, 'min_samples_leaf': 4, 'criterion': 'entropy'}. Best is trial 10 with value: 0.8761904761904761.\n",
            "[I 2024-12-14 14:47:00,269] Trial 186 finished with value: 0.8761904761904761 and parameters: {'n_estimators': 442, 'max_depth': 25, 'min_samples_split': 2, 'min_samples_leaf': 1, 'criterion': 'entropy'}. Best is trial 10 with value: 0.8761904761904761.\n",
            "[I 2024-12-14 14:47:03,553] Trial 187 finished with value: 0.7295238095238095 and parameters: {'n_estimators': 402, 'max_depth': 21, 'min_samples_split': 2, 'min_samples_leaf': 9, 'criterion': 'entropy'}. Best is trial 10 with value: 0.8761904761904761.\n",
            "[I 2024-12-14 14:47:08,564] Trial 188 finished with value: 0.8761904761904761 and parameters: {'n_estimators': 489, 'max_depth': 22, 'min_samples_split': 2, 'min_samples_leaf': 1, 'criterion': 'entropy'}. Best is trial 10 with value: 0.8761904761904761.\n",
            "[I 2024-12-14 14:47:12,541] Trial 189 finished with value: 0.8761904761904761 and parameters: {'n_estimators': 508, 'max_depth': 26, 'min_samples_split': 2, 'min_samples_leaf': 1, 'criterion': 'entropy'}. Best is trial 10 with value: 0.8761904761904761.\n",
            "[I 2024-12-14 14:47:16,149] Trial 190 finished with value: 0.8647619047619047 and parameters: {'n_estimators': 461, 'max_depth': 34, 'min_samples_split': 2, 'min_samples_leaf': 1, 'criterion': 'gini'}. Best is trial 10 with value: 0.8761904761904761.\n",
            "[I 2024-12-14 14:47:21,745] Trial 191 finished with value: 0.8761904761904761 and parameters: {'n_estimators': 507, 'max_depth': 18, 'min_samples_split': 2, 'min_samples_leaf': 1, 'criterion': 'entropy'}. Best is trial 10 with value: 0.8761904761904761.\n",
            "[I 2024-12-14 14:47:25,792] Trial 192 finished with value: 0.8704761904761904 and parameters: {'n_estimators': 524, 'max_depth': 18, 'min_samples_split': 2, 'min_samples_leaf': 1, 'criterion': 'entropy'}. Best is trial 10 with value: 0.8761904761904761.\n",
            "[I 2024-12-14 14:47:29,072] Trial 193 finished with value: 0.8761904761904761 and parameters: {'n_estimators': 416, 'max_depth': 16, 'min_samples_split': 2, 'min_samples_leaf': 1, 'criterion': 'entropy'}. Best is trial 10 with value: 0.8761904761904761.\n",
            "[I 2024-12-14 14:47:34,138] Trial 194 finished with value: 0.8761904761904761 and parameters: {'n_estimators': 480, 'max_depth': 17, 'min_samples_split': 2, 'min_samples_leaf': 1, 'criterion': 'entropy'}. Best is trial 10 with value: 0.8761904761904761.\n",
            "[I 2024-12-14 14:47:38,021] Trial 195 finished with value: 0.8761904761904761 and parameters: {'n_estimators': 450, 'max_depth': 19, 'min_samples_split': 2, 'min_samples_leaf': 1, 'criterion': 'entropy'}. Best is trial 10 with value: 0.8761904761904761.\n",
            "[I 2024-12-14 14:47:41,060] Trial 196 finished with value: 0.8704761904761904 and parameters: {'n_estimators': 387, 'max_depth': 19, 'min_samples_split': 2, 'min_samples_leaf': 1, 'criterion': 'entropy'}. Best is trial 10 with value: 0.8761904761904761.\n",
            "[I 2024-12-14 14:47:44,918] Trial 197 finished with value: 0.8761904761904761 and parameters: {'n_estimators': 496, 'max_depth': 22, 'min_samples_split': 2, 'min_samples_leaf': 1, 'criterion': 'entropy'}. Best is trial 10 with value: 0.8761904761904761.\n",
            "[I 2024-12-14 14:47:52,702] Trial 198 finished with value: 0.8761904761904761 and parameters: {'n_estimators': 776, 'max_depth': 27, 'min_samples_split': 2, 'min_samples_leaf': 1, 'criterion': 'entropy'}. Best is trial 10 with value: 0.8761904761904761.\n",
            "[I 2024-12-14 14:47:55,998] Trial 199 finished with value: 0.8704761904761904 and parameters: {'n_estimators': 430, 'max_depth': 23, 'min_samples_split': 2, 'min_samples_leaf': 1, 'criterion': 'entropy'}. Best is trial 10 with value: 0.8761904761904761.\n"
          ]
        }
      ]
    },
    {
      "cell_type": "code",
      "source": [
        "best_params_rfc = study.best_params\n",
        "\n",
        "n_estimators = best_params_rfc['n_estimators']\n",
        "max_depth = best_params_rfc['max_depth']\n",
        "min_samples_split = best_params_rfc['min_samples_split']\n",
        "min_samples_leaf = best_params_rfc['min_samples_leaf']\n",
        "criterion = best_params_rfc['criterion']"
      ],
      "metadata": {
        "id": "X9lZ39hc8M80"
      },
      "execution_count": null,
      "outputs": []
    },
    {
      "cell_type": "code",
      "source": [
        "best_model_rfc = RandomForestClassifier(n_estimators=n_estimators, max_depth=max_depth, min_samples_split=min_samples_split, min_samples_leaf=min_samples_leaf, criterion=criterion, random_state=13)\n",
        "best_model_rfc_acc = []\n",
        "best_model_rfc_mcc = []\n",
        "\n",
        "best_model_rfc.fit(X, y)\n",
        "score = cross_val_score(best_model_rfc, X, y, cv=skf, scoring='accuracy').mean()\n",
        "best_model_rfc_acc.append(score)\n",
        "best_model_rfc_mcc.append(matthews_corrcoef(y, best_model_rfc.predict(X)))\n",
        "\n",
        "print(f'Accuracy for Random Forest Classifier (after Optuna optimization): {best_model_rfc_acc[0]*100:.2f} %')\n",
        "print(f'MCC for Random Forest Classifier (after Optuna optimization): {best_model_rfc_mcc[0]:.2f}')"
      ],
      "metadata": {
        "colab": {
          "base_uri": "https://localhost:8080/"
        },
        "id": "8ojbtYtS8WVa",
        "outputId": "e8cf20a1-4e5f-4691-c60d-3890dbcda60c"
      },
      "execution_count": null,
      "outputs": [
        {
          "output_type": "stream",
          "name": "stdout",
          "text": [
            "Accuracy for Random Forest Classifier (after Optuna optimization): 87.62 %\n",
            "MCC for Random Forest Classifier (after Optuna optimization): 0.98\n"
          ]
        }
      ]
    },
    {
      "cell_type": "markdown",
      "source": [
        "## **5.2) XGBoost**"
      ],
      "metadata": {
        "id": "iMjCFECdv0lw"
      }
    },
    {
      "cell_type": "code",
      "source": [
        "morgan_gen = GetMorganGenerator(radius=1, fpSize=8192)\n",
        "df_final['Morgan_fp'] = df_final['Smiles'].apply(lambda x: morgan_gen.GetFingerprint(Chem.MolFromSmiles(x)))\n",
        "\n",
        "y = np.array(df_final['Bin_Activity'])\n",
        "X = np.array([np.array(x) for x in df_final['Morgan_fp']])"
      ],
      "metadata": {
        "id": "nLvbayeE9jDk"
      },
      "execution_count": null,
      "outputs": []
    },
    {
      "cell_type": "code",
      "source": [
        "def objective(trial):\n",
        "  eta = trial.suggest_float('eta', 0.01, 1)\n",
        "  n_estimators = trial.suggest_int('n_estimators', 100, 1000)\n",
        "  min_child_weight = trial.suggest_int('min_child_weight', 1, 10)\n",
        "  gamma = trial.suggest_int('gamma', 0, 10)\n",
        "  subsample = trial.suggest_float('subsample', 0.5, 1)\n",
        "  max_depth = trial.suggest_int('max_depth', 3, 50)\n",
        "  colsample_bytree = trial.suggest_float('colsample_bytree', 0.5, 1)\n",
        "  reg_alpha = trial.suggest_int('reg_alpha', 0, 10)\n",
        "  reg_lambda = trial.suggest_int('reg_lambda', 0, 10)\n",
        "\n",
        "  model = XGBClassifier(min_child_weight=min_child_weight, gamma=gamma, subsample=subsample, max_depth=max_depth, colsample_bytree=colsample_bytree, reg_alpha=reg_alpha, reg_lambda=reg_lambda, random_state=13)\n",
        "  score = cross_val_score(model, X, y, cv=skf, scoring='accuracy').mean()\n",
        "\n",
        "  return score"
      ],
      "metadata": {
        "id": "Y_x-Crm-vzfr"
      },
      "execution_count": null,
      "outputs": []
    },
    {
      "cell_type": "code",
      "source": [
        "study = optuna.create_study(direction='maximize')\n",
        "study.optimize(objective, n_trials=200)"
      ],
      "metadata": {
        "colab": {
          "base_uri": "https://localhost:8080/"
        },
        "id": "D2ygMOJTwsF2",
        "outputId": "4e706c8c-3c42-4a09-af29-fa77672b9120",
        "collapsed": true
      },
      "execution_count": null,
      "outputs": [
        {
          "output_type": "stream",
          "name": "stderr",
          "text": [
            "[I 2024-12-14 14:48:02,256] A new study created in memory with name: no-name-2f30f8a8-13f7-48e2-b1d6-ee8614f0df32\n",
            "[I 2024-12-14 14:48:05,352] Trial 0 finished with value: 0.7066666666666667 and parameters: {'eta': 0.8716431008128589, 'n_estimators': 346, 'min_child_weight': 10, 'gamma': 2, 'subsample': 0.8825467817276746, 'max_depth': 47, 'colsample_bytree': 0.9746153596290892, 'reg_alpha': 3, 'reg_lambda': 5}. Best is trial 0 with value: 0.7066666666666667.\n",
            "[I 2024-12-14 14:48:06,948] Trial 1 finished with value: 0.6441269841269841 and parameters: {'eta': 0.9623882096518032, 'n_estimators': 339, 'min_child_weight': 5, 'gamma': 6, 'subsample': 0.6314332985873683, 'max_depth': 31, 'colsample_bytree': 0.7699885321942979, 'reg_alpha': 7, 'reg_lambda': 9}. Best is trial 0 with value: 0.7066666666666667.\n",
            "[I 2024-12-14 14:48:08,591] Trial 2 finished with value: 0.6441269841269841 and parameters: {'eta': 0.4884842312382075, 'n_estimators': 694, 'min_child_weight': 5, 'gamma': 3, 'subsample': 0.6513528636768606, 'max_depth': 12, 'colsample_bytree': 0.8570563808121072, 'reg_alpha': 7, 'reg_lambda': 10}. Best is trial 0 with value: 0.7066666666666667.\n",
            "[I 2024-12-14 14:48:10,270] Trial 3 finished with value: 0.729047619047619 and parameters: {'eta': 0.1995341421862712, 'n_estimators': 399, 'min_child_weight': 4, 'gamma': 1, 'subsample': 0.906273841512498, 'max_depth': 48, 'colsample_bytree': 0.8573803593939395, 'reg_alpha': 8, 'reg_lambda': 0}. Best is trial 3 with value: 0.729047619047619.\n",
            "[I 2024-12-14 14:48:11,832] Trial 4 finished with value: 0.6441269841269841 and parameters: {'eta': 0.36761955848953476, 'n_estimators': 217, 'min_child_weight': 4, 'gamma': 3, 'subsample': 0.8331627385476357, 'max_depth': 14, 'colsample_bytree': 0.7495136107588596, 'reg_alpha': 8, 'reg_lambda': 1}. Best is trial 3 with value: 0.729047619047619.\n",
            "[I 2024-12-14 14:48:13,386] Trial 5 finished with value: 0.6441269841269841 and parameters: {'eta': 0.9725722930060606, 'n_estimators': 349, 'min_child_weight': 5, 'gamma': 6, 'subsample': 0.9844369055263025, 'max_depth': 50, 'colsample_bytree': 0.7816154918424859, 'reg_alpha': 9, 'reg_lambda': 4}. Best is trial 3 with value: 0.729047619047619.\n",
            "[I 2024-12-14 14:48:16,859] Trial 6 finished with value: 0.768888888888889 and parameters: {'eta': 0.5268992906195521, 'n_estimators': 794, 'min_child_weight': 5, 'gamma': 1, 'subsample': 0.9887823136571293, 'max_depth': 20, 'colsample_bytree': 0.811138648103742, 'reg_alpha': 6, 'reg_lambda': 3}. Best is trial 6 with value: 0.768888888888889.\n",
            "[I 2024-12-14 14:48:19,487] Trial 7 finished with value: 0.7407936507936508 and parameters: {'eta': 0.391709438827753, 'n_estimators': 940, 'min_child_weight': 8, 'gamma': 3, 'subsample': 0.8409080963769664, 'max_depth': 45, 'colsample_bytree': 0.6568197526788956, 'reg_alpha': 4, 'reg_lambda': 1}. Best is trial 6 with value: 0.768888888888889.\n",
            "[I 2024-12-14 14:48:21,127] Trial 8 finished with value: 0.6441269841269841 and parameters: {'eta': 0.4307660214938545, 'n_estimators': 532, 'min_child_weight': 3, 'gamma': 8, 'subsample': 0.5731698255207593, 'max_depth': 10, 'colsample_bytree': 0.8395788838280536, 'reg_alpha': 3, 'reg_lambda': 5}. Best is trial 6 with value: 0.768888888888889.\n",
            "[I 2024-12-14 14:48:23,049] Trial 9 finished with value: 0.740952380952381 and parameters: {'eta': 0.08247316818492063, 'n_estimators': 866, 'min_child_weight': 5, 'gamma': 0, 'subsample': 0.760596913681336, 'max_depth': 11, 'colsample_bytree': 0.7736576175672649, 'reg_alpha': 5, 'reg_lambda': 9}. Best is trial 6 with value: 0.768888888888889.\n",
            "[I 2024-12-14 14:48:24,592] Trial 10 finished with value: 0.7407936507936508 and parameters: {'eta': 0.7060596717658018, 'n_estimators': 731, 'min_child_weight': 1, 'gamma': 10, 'subsample': 0.9771812902513167, 'max_depth': 24, 'colsample_bytree': 0.5133141511526742, 'reg_alpha': 0, 'reg_lambda': 3}. Best is trial 6 with value: 0.768888888888889.\n",
            "[I 2024-12-14 14:48:26,418] Trial 11 finished with value: 0.7409523809523809 and parameters: {'eta': 0.04074475514862078, 'n_estimators': 974, 'min_child_weight': 7, 'gamma': 0, 'subsample': 0.7373674399041628, 'max_depth': 4, 'colsample_bytree': 0.6643226982586912, 'reg_alpha': 5, 'reg_lambda': 8}. Best is trial 6 with value: 0.768888888888889.\n",
            "[I 2024-12-14 14:48:28,547] Trial 12 finished with value: 0.7409523809523809 and parameters: {'eta': 0.65612506655188, 'n_estimators': 800, 'min_child_weight': 7, 'gamma': 0, 'subsample': 0.7523260611611755, 'max_depth': 24, 'colsample_bytree': 0.9515880525505789, 'reg_alpha': 6, 'reg_lambda': 7}. Best is trial 6 with value: 0.768888888888889.\n",
            "[I 2024-12-14 14:48:32,410] Trial 13 finished with value: 0.6441269841269841 and parameters: {'eta': 0.2170541923688623, 'n_estimators': 829, 'min_child_weight': 1, 'gamma': 0, 'subsample': 0.5009599285927168, 'max_depth': 20, 'colsample_bytree': 0.6667742085480437, 'reg_alpha': 10, 'reg_lambda': 7}. Best is trial 6 with value: 0.768888888888889.\n",
            "[I 2024-12-14 14:48:34,052] Trial 14 finished with value: 0.7520634920634921 and parameters: {'eta': 0.641906858642014, 'n_estimators': 606, 'min_child_weight': 3, 'gamma': 5, 'subsample': 0.7495519286207841, 'max_depth': 33, 'colsample_bytree': 0.7191505024444248, 'reg_alpha': 1, 'reg_lambda': 3}. Best is trial 6 with value: 0.768888888888889.\n",
            "[I 2024-12-14 14:48:35,624] Trial 15 finished with value: 0.7519047619047619 and parameters: {'eta': 0.6529780702011461, 'n_estimators': 639, 'min_child_weight': 3, 'gamma': 5, 'subsample': 0.6862456338055485, 'max_depth': 34, 'colsample_bytree': 0.5864351744365794, 'reg_alpha': 0, 'reg_lambda': 3}. Best is trial 6 with value: 0.768888888888889.\n",
            "[I 2024-12-14 14:48:37,321] Trial 16 finished with value: 0.7465079365079366 and parameters: {'eta': 0.7815349246631298, 'n_estimators': 545, 'min_child_weight': 2, 'gamma': 8, 'subsample': 0.8099949423275702, 'max_depth': 35, 'colsample_bytree': 0.9145787643407962, 'reg_alpha': 2, 'reg_lambda': 2}. Best is trial 6 with value: 0.768888888888889.\n",
            "[I 2024-12-14 14:48:38,959] Trial 17 finished with value: 0.7409523809523809 and parameters: {'eta': 0.598302962470637, 'n_estimators': 612, 'min_child_weight': 7, 'gamma': 4, 'subsample': 0.9218343340683728, 'max_depth': 40, 'colsample_bytree': 0.7121286829560095, 'reg_alpha': 1, 'reg_lambda': 3}. Best is trial 6 with value: 0.768888888888889.\n",
            "[I 2024-12-14 14:48:40,535] Trial 18 finished with value: 0.6952380952380952 and parameters: {'eta': 0.5434006608028992, 'n_estimators': 472, 'min_child_weight': 3, 'gamma': 8, 'subsample': 0.6857927136594208, 'max_depth': 19, 'colsample_bytree': 0.603136289178238, 'reg_alpha': 2, 'reg_lambda': 6}. Best is trial 6 with value: 0.768888888888889.\n",
            "[I 2024-12-14 14:48:42,939] Trial 19 finished with value: 0.6726984126984127 and parameters: {'eta': 0.7702293104540052, 'n_estimators': 101, 'min_child_weight': 9, 'gamma': 5, 'subsample': 0.7966834175285598, 'max_depth': 30, 'colsample_bytree': 0.8241995157145561, 'reg_alpha': 4, 'reg_lambda': 4}. Best is trial 6 with value: 0.768888888888889.\n",
            "[I 2024-12-14 14:48:46,686] Trial 20 finished with value: 0.6441269841269841 and parameters: {'eta': 0.32275749665026443, 'n_estimators': 728, 'min_child_weight': 6, 'gamma': 7, 'subsample': 0.5827699584349257, 'max_depth': 41, 'colsample_bytree': 0.7165108076049693, 'reg_alpha': 6, 'reg_lambda': 2}. Best is trial 6 with value: 0.768888888888889.\n",
            "[I 2024-12-14 14:48:48,302] Trial 21 finished with value: 0.7465079365079366 and parameters: {'eta': 0.594243139626207, 'n_estimators': 614, 'min_child_weight': 3, 'gamma': 5, 'subsample': 0.7047977877189682, 'max_depth': 35, 'colsample_bytree': 0.5447807781385636, 'reg_alpha': 0, 'reg_lambda': 3}. Best is trial 6 with value: 0.768888888888889.\n",
            "[I 2024-12-14 14:48:49,836] Trial 22 finished with value: 0.7634920634920636 and parameters: {'eta': 0.693540049114558, 'n_estimators': 642, 'min_child_weight': 2, 'gamma': 4, 'subsample': 0.6916080110981904, 'max_depth': 29, 'colsample_bytree': 0.5841001480860138, 'reg_alpha': 1, 'reg_lambda': 4}. Best is trial 6 with value: 0.768888888888889.\n",
            "[I 2024-12-14 14:48:51,450] Trial 23 finished with value: 0.7576190476190476 and parameters: {'eta': 0.8032808906790365, 'n_estimators': 769, 'min_child_weight': 2, 'gamma': 2, 'subsample': 0.6263496197987874, 'max_depth': 28, 'colsample_bytree': 0.6136714834809479, 'reg_alpha': 2, 'reg_lambda': 5}. Best is trial 6 with value: 0.768888888888889.\n",
            "[I 2024-12-14 14:48:53,068] Trial 24 finished with value: 0.768888888888889 and parameters: {'eta': 0.8313700991292013, 'n_estimators': 899, 'min_child_weight': 2, 'gamma': 2, 'subsample': 0.621997016542694, 'max_depth': 28, 'colsample_bytree': 0.5980624020047638, 'reg_alpha': 2, 'reg_lambda': 6}. Best is trial 6 with value: 0.768888888888889.\n",
            "[I 2024-12-14 14:48:54,614] Trial 25 finished with value: 0.741111111111111 and parameters: {'eta': 0.8623458175492893, 'n_estimators': 891, 'min_child_weight': 2, 'gamma': 2, 'subsample': 0.5671098827219336, 'max_depth': 19, 'colsample_bytree': 0.5490737085905968, 'reg_alpha': 4, 'reg_lambda': 6}. Best is trial 6 with value: 0.768888888888889.\n",
            "[I 2024-12-14 14:48:56,304] Trial 26 finished with value: 0.718095238095238 and parameters: {'eta': 0.5044283813023934, 'n_estimators': 897, 'min_child_weight': 1, 'gamma': 4, 'subsample': 0.5218228762620303, 'max_depth': 24, 'colsample_bytree': 0.5039867174116565, 'reg_alpha': 1, 'reg_lambda': 6}. Best is trial 6 with value: 0.768888888888889.\n",
            "[I 2024-12-14 14:49:00,735] Trial 27 finished with value: 0.7296825396825397 and parameters: {'eta': 0.7267617404065507, 'n_estimators': 811, 'min_child_weight': 4, 'gamma': 1, 'subsample': 0.657389129939521, 'max_depth': 15, 'colsample_bytree': 0.6361146919703873, 'reg_alpha': 6, 'reg_lambda': 4}. Best is trial 6 with value: 0.768888888888889.\n",
            "[I 2024-12-14 14:49:02,378] Trial 28 finished with value: 0.7574603174603174 and parameters: {'eta': 0.8722331814423046, 'n_estimators': 677, 'min_child_weight': 2, 'gamma': 1, 'subsample': 0.6058091015580253, 'max_depth': 27, 'colsample_bytree': 0.5621652541957216, 'reg_alpha': 3, 'reg_lambda': 7}. Best is trial 6 with value: 0.768888888888889.\n",
            "[I 2024-12-14 14:49:04,111] Trial 29 finished with value: 0.6384126984126983 and parameters: {'eta': 0.8848060140804626, 'n_estimators': 997, 'min_child_weight': 10, 'gamma': 2, 'subsample': 0.714124932043998, 'max_depth': 21, 'colsample_bytree': 0.9972954172475553, 'reg_alpha': 5, 'reg_lambda': 5}. Best is trial 6 with value: 0.768888888888889.\n",
            "[I 2024-12-14 14:49:05,704] Trial 30 finished with value: 0.7352380952380952 and parameters: {'eta': 0.706949632669595, 'n_estimators': 751, 'min_child_weight': 6, 'gamma': 4, 'subsample': 0.8706102856959044, 'max_depth': 38, 'colsample_bytree': 0.7034411047463038, 'reg_alpha': 2, 'reg_lambda': 4}. Best is trial 6 with value: 0.768888888888889.\n",
            "[I 2024-12-14 14:49:07,293] Trial 31 finished with value: 0.7576190476190476 and parameters: {'eta': 0.8103085445582356, 'n_estimators': 780, 'min_child_weight': 2, 'gamma': 2, 'subsample': 0.6250402981416018, 'max_depth': 29, 'colsample_bytree': 0.6191521413454902, 'reg_alpha': 2, 'reg_lambda': 5}. Best is trial 6 with value: 0.768888888888889.\n",
            "[I 2024-12-14 14:49:08,928] Trial 32 finished with value: 0.7747619047619048 and parameters: {'eta': 0.9214809161028333, 'n_estimators': 850, 'min_child_weight': 1, 'gamma': 3, 'subsample': 0.5444222048680945, 'max_depth': 28, 'colsample_bytree': 0.5731783986605826, 'reg_alpha': 1, 'reg_lambda': 5}. Best is trial 32 with value: 0.7747619047619048.\n",
            "[I 2024-12-14 14:49:11,368] Trial 33 finished with value: 0.7633333333333333 and parameters: {'eta': 0.9248253220570933, 'n_estimators': 861, 'min_child_weight': 1, 'gamma': 3, 'subsample': 0.5459976948522541, 'max_depth': 25, 'colsample_bytree': 0.5783997244468781, 'reg_alpha': 1, 'reg_lambda': 6}. Best is trial 32 with value: 0.7747619047619048.\n",
            "[I 2024-12-14 14:49:14,694] Trial 34 finished with value: 0.7577777777777778 and parameters: {'eta': 0.9952812917858163, 'n_estimators': 940, 'min_child_weight': 4, 'gamma': 1, 'subsample': 0.6640828680498205, 'max_depth': 31, 'colsample_bytree': 0.5397533038143782, 'reg_alpha': 3, 'reg_lambda': 2}. Best is trial 32 with value: 0.7747619047619048.\n",
            "[I 2024-12-14 14:49:16,340] Trial 35 finished with value: 0.6441269841269841 and parameters: {'eta': 0.925806503592308, 'n_estimators': 678, 'min_child_weight': 1, 'gamma': 3, 'subsample': 0.6034189503527676, 'max_depth': 17, 'colsample_bytree': 0.886019488647077, 'reg_alpha': 7, 'reg_lambda': 4}. Best is trial 32 with value: 0.7747619047619048.\n",
            "[I 2024-12-14 14:49:18,030] Trial 36 finished with value: 0.717936507936508 and parameters: {'eta': 0.8479266824727705, 'n_estimators': 475, 'min_child_weight': 2, 'gamma': 4, 'subsample': 0.5546914713203246, 'max_depth': 32, 'colsample_bytree': 0.6850493539841918, 'reg_alpha': 0, 'reg_lambda': 8}. Best is trial 32 with value: 0.7747619047619048.\n",
            "[I 2024-12-14 14:49:19,723] Trial 37 finished with value: 0.7855555555555556 and parameters: {'eta': 0.7415917621189916, 'n_estimators': 922, 'min_child_weight': 1, 'gamma': 3, 'subsample': 0.5996516098380215, 'max_depth': 27, 'colsample_bytree': 0.8038876928856133, 'reg_alpha': 1, 'reg_lambda': 0}. Best is trial 37 with value: 0.7855555555555556.\n",
            "[I 2024-12-14 14:49:21,412] Trial 38 finished with value: 0.6441269841269841 and parameters: {'eta': 0.940124905972646, 'n_estimators': 921, 'min_child_weight': 1, 'gamma': 3, 'subsample': 0.5408418977917879, 'max_depth': 23, 'colsample_bytree': 0.8144451731301936, 'reg_alpha': 8, 'reg_lambda': 1}. Best is trial 37 with value: 0.7855555555555556.\n",
            "[I 2024-12-14 14:49:23,083] Trial 39 finished with value: 0.7523809523809524 and parameters: {'eta': 0.2851327540024251, 'n_estimators': 855, 'min_child_weight': 4, 'gamma': 1, 'subsample': 0.5924366062036345, 'max_depth': 26, 'colsample_bytree': 0.7981827451917692, 'reg_alpha': 4, 'reg_lambda': 0}. Best is trial 37 with value: 0.7855555555555556.\n",
            "[I 2024-12-14 14:49:26,810] Trial 40 finished with value: 0.7465079365079366 and parameters: {'eta': 0.45071131344920007, 'n_estimators': 965, 'min_child_weight': 9, 'gamma': 2, 'subsample': 0.9292036041727503, 'max_depth': 37, 'colsample_bytree': 0.750888383405376, 'reg_alpha': 3, 'reg_lambda': 0}. Best is trial 37 with value: 0.7855555555555556.\n",
            "[I 2024-12-14 14:49:29,452] Trial 41 finished with value: 0.7744444444444445 and parameters: {'eta': 0.7381692903822107, 'n_estimators': 826, 'min_child_weight': 2, 'gamma': 3, 'subsample': 0.6255883640800199, 'max_depth': 22, 'colsample_bytree': 0.8736403293242189, 'reg_alpha': 1, 'reg_lambda': 5}. Best is trial 37 with value: 0.7855555555555556.\n",
            "[I 2024-12-14 14:49:31,123] Trial 42 finished with value: 0.769047619047619 and parameters: {'eta': 0.7634102776351264, 'n_estimators': 827, 'min_child_weight': 1, 'gamma': 3, 'subsample': 0.6411825721476955, 'max_depth': 22, 'colsample_bytree': 0.8736261170497129, 'reg_alpha': 1, 'reg_lambda': 6}. Best is trial 37 with value: 0.7855555555555556.\n",
            "[I 2024-12-14 14:49:32,821] Trial 43 finished with value: 0.796984126984127 and parameters: {'eta': 0.7397587512195685, 'n_estimators': 833, 'min_child_weight': 1, 'gamma': 3, 'subsample': 0.6438278903083501, 'max_depth': 22, 'colsample_bytree': 0.867191812272432, 'reg_alpha': 0, 'reg_lambda': 5}. Best is trial 43 with value: 0.796984126984127.\n",
            "[I 2024-12-14 14:49:34,531] Trial 44 finished with value: 0.7801587301587303 and parameters: {'eta': 0.7559106628305357, 'n_estimators': 841, 'min_child_weight': 1, 'gamma': 3, 'subsample': 0.6486151377866174, 'max_depth': 22, 'colsample_bytree': 0.8687123173243377, 'reg_alpha': 0, 'reg_lambda': 8}. Best is trial 43 with value: 0.796984126984127.\n",
            "[I 2024-12-14 14:49:36,222] Trial 45 finished with value: 0.6895238095238094 and parameters: {'eta': 0.5727739453312223, 'n_estimators': 943, 'min_child_weight': 1, 'gamma': 6, 'subsample': 0.5264116479738222, 'max_depth': 17, 'colsample_bytree': 0.9196116855229803, 'reg_alpha': 0, 'reg_lambda': 10}. Best is trial 43 with value: 0.796984126984127.\n",
            "[I 2024-12-14 14:49:37,913] Trial 46 finished with value: 0.7690476190476192 and parameters: {'eta': 0.7278376392822872, 'n_estimators': 727, 'min_child_weight': 1, 'gamma': 4, 'subsample': 0.6579841563030348, 'max_depth': 8, 'colsample_bytree': 0.847763664786053, 'reg_alpha': 0, 'reg_lambda': 9}. Best is trial 43 with value: 0.796984126984127.\n",
            "[I 2024-12-14 14:49:42,341] Trial 47 finished with value: 0.7634920634920636 and parameters: {'eta': 0.651999698677963, 'n_estimators': 1000, 'min_child_weight': 1, 'gamma': 3, 'subsample': 0.5769319286716913, 'max_depth': 16, 'colsample_bytree': 0.899419939192786, 'reg_alpha': 1, 'reg_lambda': 8}. Best is trial 43 with value: 0.796984126984127.\n",
            "[I 2024-12-14 14:49:44,127] Trial 48 finished with value: 0.7576190476190476 and parameters: {'eta': 0.8998717485631375, 'n_estimators': 851, 'min_child_weight': 3, 'gamma': 3, 'subsample': 0.6109085528365014, 'max_depth': 22, 'colsample_bytree': 0.9491056382644174, 'reg_alpha': 0, 'reg_lambda': 7}. Best is trial 43 with value: 0.796984126984127.\n",
            "[I 2024-12-14 14:49:45,809] Trial 49 finished with value: 0.7409523809523809 and parameters: {'eta': 0.7558641282473825, 'n_estimators': 795, 'min_child_weight': 2, 'gamma': 5, 'subsample': 0.7295799993432492, 'max_depth': 26, 'colsample_bytree': 0.8347045727212041, 'reg_alpha': 0, 'reg_lambda': 9}. Best is trial 43 with value: 0.796984126984127.\n",
            "[I 2024-12-14 14:49:47,524] Trial 50 finished with value: 0.7685714285714286 and parameters: {'eta': 0.6216172908707552, 'n_estimators': 906, 'min_child_weight': 1, 'gamma': 2, 'subsample': 0.5074124819421727, 'max_depth': 18, 'colsample_bytree': 0.8630456013626719, 'reg_alpha': 1, 'reg_lambda': 5}. Best is trial 43 with value: 0.796984126984127.\n",
            "[I 2024-12-14 14:49:49,208] Trial 51 finished with value: 0.7520634920634921 and parameters: {'eta': 0.7266049496328617, 'n_estimators': 719, 'min_child_weight': 1, 'gamma': 4, 'subsample': 0.6667713350656378, 'max_depth': 5, 'colsample_bytree': 0.7896376686209912, 'reg_alpha': 0, 'reg_lambda': 9}. Best is trial 43 with value: 0.796984126984127.\n",
            "[I 2024-12-14 14:49:50,864] Trial 52 finished with value: 0.757936507936508 and parameters: {'eta': 0.6691968379369901, 'n_estimators': 840, 'min_child_weight': 1, 'gamma': 4, 'subsample': 0.6392073831114147, 'max_depth': 12, 'colsample_bytree': 0.8421183365442525, 'reg_alpha': 0, 'reg_lambda': 10}. Best is trial 43 with value: 0.796984126984127.\n",
            "[I 2024-12-14 14:49:53,481] Trial 53 finished with value: 0.7577777777777778 and parameters: {'eta': 0.8158561016458583, 'n_estimators': 712, 'min_child_weight': 2, 'gamma': 3, 'subsample': 0.6517312201819021, 'max_depth': 14, 'colsample_bytree': 0.8545484954370253, 'reg_alpha': 1, 'reg_lambda': 9}. Best is trial 43 with value: 0.796984126984127.\n",
            "[I 2024-12-14 14:49:58,226] Trial 54 finished with value: 0.7633333333333333 and parameters: {'eta': 0.7308405616261322, 'n_estimators': 298, 'min_child_weight': 1, 'gamma': 4, 'subsample': 0.6768017712865615, 'max_depth': 9, 'colsample_bytree': 0.7621739363238771, 'reg_alpha': 0, 'reg_lambda': 8}. Best is trial 43 with value: 0.796984126984127.\n",
            "[I 2024-12-14 14:50:01,143] Trial 55 finished with value: 0.6441269841269841 and parameters: {'eta': 0.7844032907854979, 'n_estimators': 754, 'min_child_weight': 3, 'gamma': 10, 'subsample': 0.5887575044749982, 'max_depth': 8, 'colsample_bytree': 0.933994191978549, 'reg_alpha': 1, 'reg_lambda': 8}. Best is trial 43 with value: 0.796984126984127.\n",
            "[I 2024-12-14 14:50:02,834] Trial 56 finished with value: 0.7350793650793651 and parameters: {'eta': 0.9665593858676311, 'n_estimators': 881, 'min_child_weight': 2, 'gamma': 3, 'subsample': 0.7096302566615849, 'max_depth': 6, 'colsample_bytree': 0.8800787103008687, 'reg_alpha': 2, 'reg_lambda': 10}. Best is trial 43 with value: 0.796984126984127.\n",
            "[I 2024-12-14 14:50:04,461] Trial 57 finished with value: 0.7463492063492063 and parameters: {'eta': 0.6812812973116231, 'n_estimators': 824, 'min_child_weight': 1, 'gamma': 6, 'subsample': 0.7800683741581375, 'max_depth': 12, 'colsample_bytree': 0.8074825793144447, 'reg_alpha': 0, 'reg_lambda': 5}. Best is trial 43 with value: 0.796984126984127.\n",
            "[I 2024-12-14 14:50:06,116] Trial 58 finished with value: 0.7636507936507937 and parameters: {'eta': 0.5399065754794155, 'n_estimators': 774, 'min_child_weight': 3, 'gamma': 3, 'subsample': 0.5634128122541148, 'max_depth': 20, 'colsample_bytree': 0.9029388292132086, 'reg_alpha': 1, 'reg_lambda': 7}. Best is trial 43 with value: 0.796984126984127.\n",
            "[I 2024-12-14 14:50:07,801] Trial 59 finished with value: 0.7577777777777778 and parameters: {'eta': 0.74851880403248, 'n_estimators': 961, 'min_child_weight': 1, 'gamma': 4, 'subsample': 0.6376564088122461, 'max_depth': 3, 'colsample_bytree': 0.8529648384484692, 'reg_alpha': 0, 'reg_lambda': 9}. Best is trial 43 with value: 0.796984126984127.\n",
            "[I 2024-12-14 14:50:11,518] Trial 60 finished with value: 0.7857142857142858 and parameters: {'eta': 0.6060954565941106, 'n_estimators': 924, 'min_child_weight': 2, 'gamma': 2, 'subsample': 0.6171211427405314, 'max_depth': 45, 'colsample_bytree': 0.8309429362681527, 'reg_alpha': 2, 'reg_lambda': 1}. Best is trial 43 with value: 0.796984126984127.\n",
            "[I 2024-12-14 14:50:14,139] Trial 61 finished with value: 0.7855555555555556 and parameters: {'eta': 0.6197567602731414, 'n_estimators': 882, 'min_child_weight': 2, 'gamma': 2, 'subsample': 0.5983523492792643, 'max_depth': 45, 'colsample_bytree': 0.7763721735660455, 'reg_alpha': 1, 'reg_lambda': 1}. Best is trial 43 with value: 0.796984126984127.\n",
            "[I 2024-12-14 14:50:15,795] Trial 62 finished with value: 0.7746031746031745 and parameters: {'eta': 0.46714518013765083, 'n_estimators': 921, 'min_child_weight': 2, 'gamma': 2, 'subsample': 0.6105044688675811, 'max_depth': 45, 'colsample_bytree': 0.7332313105060264, 'reg_alpha': 2, 'reg_lambda': 1}. Best is trial 43 with value: 0.796984126984127.\n",
            "[I 2024-12-14 14:50:17,464] Trial 63 finished with value: 0.7688888888888888 and parameters: {'eta': 0.46572458117588944, 'n_estimators': 937, 'min_child_weight': 2, 'gamma': 2, 'subsample': 0.5958043733319809, 'max_depth': 45, 'colsample_bytree': 0.7753517588285952, 'reg_alpha': 2, 'reg_lambda': 1}. Best is trial 43 with value: 0.796984126984127.\n",
            "[I 2024-12-14 14:50:19,238] Trial 64 finished with value: 0.7857142857142858 and parameters: {'eta': 0.6184273008292104, 'n_estimators': 874, 'min_child_weight': 3, 'gamma': 1, 'subsample': 0.5321148003109071, 'max_depth': 48, 'colsample_bytree': 0.7389291054908106, 'reg_alpha': 2, 'reg_lambda': 0}. Best is trial 43 with value: 0.796984126984127.\n",
            "[I 2024-12-14 14:50:20,972] Trial 65 finished with value: 0.7747619047619048 and parameters: {'eta': 0.5881725141212547, 'n_estimators': 879, 'min_child_weight': 3, 'gamma': 1, 'subsample': 0.5239466513107227, 'max_depth': 50, 'colsample_bytree': 0.8244377491857023, 'reg_alpha': 3, 'reg_lambda': 0}. Best is trial 43 with value: 0.796984126984127.\n",
            "[I 2024-12-14 14:50:23,835] Trial 66 finished with value: 0.8419047619047619 and parameters: {'eta': 0.5554062083328632, 'n_estimators': 976, 'min_child_weight': 2, 'gamma': 0, 'subsample': 0.5334856274685497, 'max_depth': 48, 'colsample_bytree': 0.7436163835734858, 'reg_alpha': 2, 'reg_lambda': 1}. Best is trial 66 with value: 0.8419047619047619.\n",
            "[I 2024-12-14 14:50:27,619] Trial 67 finished with value: 0.7634920634920636 and parameters: {'eta': 0.6198656658377971, 'n_estimators': 988, 'min_child_weight': 3, 'gamma': 1, 'subsample': 0.5767794605974833, 'max_depth': 47, 'colsample_bytree': 0.7342631875905956, 'reg_alpha': 3, 'reg_lambda': 1}. Best is trial 66 with value: 0.8419047619047619.\n",
            "[I 2024-12-14 14:50:29,744] Trial 68 finished with value: 0.824920634920635 and parameters: {'eta': 0.5556156268859386, 'n_estimators': 956, 'min_child_weight': 2, 'gamma': 0, 'subsample': 0.5063182840950705, 'max_depth': 42, 'colsample_bytree': 0.7610393499203286, 'reg_alpha': 2, 'reg_lambda': 2}. Best is trial 66 with value: 0.8419047619047619.\n",
            "[I 2024-12-14 14:50:31,633] Trial 69 finished with value: 0.7520634920634921 and parameters: {'eta': 0.557833154331355, 'n_estimators': 966, 'min_child_weight': 5, 'gamma': 0, 'subsample': 0.5083325701139119, 'max_depth': 42, 'colsample_bytree': 0.751025473329674, 'reg_alpha': 2, 'reg_lambda': 2}. Best is trial 66 with value: 0.8419047619047619.\n",
            "[I 2024-12-14 14:50:33,698] Trial 70 finished with value: 0.7965079365079365 and parameters: {'eta': 0.5091061533756273, 'n_estimators': 916, 'min_child_weight': 3, 'gamma': 0, 'subsample': 0.5338693082934783, 'max_depth': 43, 'colsample_bytree': 0.7670505437545349, 'reg_alpha': 2, 'reg_lambda': 0}. Best is trial 66 with value: 0.8419047619047619.\n",
            "[I 2024-12-14 14:50:35,723] Trial 71 finished with value: 0.7965079365079365 and parameters: {'eta': 0.5007569221325209, 'n_estimators': 913, 'min_child_weight': 3, 'gamma': 0, 'subsample': 0.5338415623694939, 'max_depth': 43, 'colsample_bytree': 0.7800452477602455, 'reg_alpha': 2, 'reg_lambda': 0}. Best is trial 66 with value: 0.8419047619047619.\n",
            "[I 2024-12-14 14:50:39,796] Trial 72 finished with value: 0.7742857142857142 and parameters: {'eta': 0.4001587078341458, 'n_estimators': 916, 'min_child_weight': 4, 'gamma': 0, 'subsample': 0.5337341687658457, 'max_depth': 43, 'colsample_bytree': 0.6948238686616335, 'reg_alpha': 2, 'reg_lambda': 0}. Best is trial 66 with value: 0.8419047619047619.\n",
            "[I 2024-12-14 14:50:42,598] Trial 73 finished with value: 0.796984126984127 and parameters: {'eta': 0.5223740838833402, 'n_estimators': 969, 'min_child_weight': 3, 'gamma': 0, 'subsample': 0.55687090086505, 'max_depth': 49, 'colsample_bytree': 0.7320465176069365, 'reg_alpha': 4, 'reg_lambda': 0}. Best is trial 66 with value: 0.8419047619047619.\n",
            "[I 2024-12-14 14:50:44,439] Trial 74 finished with value: 0.7523809523809524 and parameters: {'eta': 0.5206986497351548, 'n_estimators': 954, 'min_child_weight': 4, 'gamma': 0, 'subsample': 0.5555773381879607, 'max_depth': 48, 'colsample_bytree': 0.7327474433941585, 'reg_alpha': 4, 'reg_lambda': 2}. Best is trial 66 with value: 0.8419047619047619.\n",
            "[I 2024-12-14 14:50:46,386] Trial 75 finished with value: 0.8080952380952382 and parameters: {'eta': 0.5019150685869045, 'n_estimators': 984, 'min_child_weight': 3, 'gamma': 0, 'subsample': 0.5147741051563783, 'max_depth': 50, 'colsample_bytree': 0.7621388383048818, 'reg_alpha': 3, 'reg_lambda': 0}. Best is trial 66 with value: 0.8419047619047619.\n",
            "[I 2024-12-14 14:50:48,363] Trial 76 finished with value: 0.7523809523809524 and parameters: {'eta': 0.4093906322814065, 'n_estimators': 980, 'min_child_weight': 4, 'gamma': 0, 'subsample': 0.5113162824626689, 'max_depth': 39, 'colsample_bytree': 0.763843081249739, 'reg_alpha': 4, 'reg_lambda': 1}. Best is trial 66 with value: 0.8419047619047619.\n",
            "[I 2024-12-14 14:50:50,376] Trial 77 finished with value: 0.7914285714285715 and parameters: {'eta': 0.4969516925539396, 'n_estimators': 973, 'min_child_weight': 3, 'gamma': 0, 'subsample': 0.5583624305216206, 'max_depth': 43, 'colsample_bytree': 0.7897401536598085, 'reg_alpha': 3, 'reg_lambda': 1}. Best is trial 66 with value: 0.8419047619047619.\n",
            "[I 2024-12-14 14:50:55,093] Trial 78 finished with value: 0.796984126984127 and parameters: {'eta': 0.34329750835374795, 'n_estimators': 980, 'min_child_weight': 3, 'gamma': 0, 'subsample': 0.5520298230783482, 'max_depth': 43, 'colsample_bytree': 0.6764084097703003, 'reg_alpha': 3, 'reg_lambda': 0}. Best is trial 66 with value: 0.8419047619047619.\n",
            "[I 2024-12-14 14:50:56,887] Trial 79 finished with value: 0.7574603174603174 and parameters: {'eta': 0.34887222623195846, 'n_estimators': 999, 'min_child_weight': 3, 'gamma': 0, 'subsample': 0.544478521732859, 'max_depth': 49, 'colsample_bytree': 0.6801579948196476, 'reg_alpha': 5, 'reg_lambda': 0}. Best is trial 66 with value: 0.8419047619047619.\n",
            "[I 2024-12-14 14:50:58,778] Trial 80 finished with value: 0.7350793650793651 and parameters: {'eta': 0.4307317094146635, 'n_estimators': 947, 'min_child_weight': 4, 'gamma': 0, 'subsample': 0.5152187022051556, 'max_depth': 50, 'colsample_bytree': 0.651567323576455, 'reg_alpha': 3, 'reg_lambda': 0}. Best is trial 66 with value: 0.8419047619047619.\n",
            "[I 2024-12-14 14:51:00,705] Trial 81 finished with value: 0.813809523809524 and parameters: {'eta': 0.49180004219157936, 'n_estimators': 971, 'min_child_weight': 3, 'gamma': 0, 'subsample': 0.500265640606297, 'max_depth': 43, 'colsample_bytree': 0.718460514904607, 'reg_alpha': 3, 'reg_lambda': 0}. Best is trial 66 with value: 0.8419047619047619.\n",
            "[I 2024-12-14 14:51:02,568] Trial 82 finished with value: 0.7968253968253969 and parameters: {'eta': 0.16549970664854752, 'n_estimators': 898, 'min_child_weight': 3, 'gamma': 0, 'subsample': 0.5011876612955157, 'max_depth': 47, 'colsample_bytree': 0.7126130416306032, 'reg_alpha': 3, 'reg_lambda': 0}. Best is trial 66 with value: 0.8419047619047619.\n",
            "[I 2024-12-14 14:51:04,205] Trial 83 finished with value: 0.7409523809523809 and parameters: {'eta': 0.11157501310267806, 'n_estimators': 970, 'min_child_weight': 3, 'gamma': 1, 'subsample': 0.5002362693412556, 'max_depth': 47, 'colsample_bytree': 0.7160256583287468, 'reg_alpha': 4, 'reg_lambda': 0}. Best is trial 66 with value: 0.8419047619047619.\n",
            "[I 2024-12-14 14:51:08,008] Trial 84 finished with value: 0.7409523809523809 and parameters: {'eta': 0.218590509823123, 'n_estimators': 939, 'min_child_weight': 4, 'gamma': 0, 'subsample': 0.5179057478293393, 'max_depth': 47, 'colsample_bytree': 0.7057755066590454, 'reg_alpha': 4, 'reg_lambda': 0}. Best is trial 66 with value: 0.8419047619047619.\n",
            "[I 2024-12-14 14:51:10,841] Trial 85 finished with value: 0.8080952380952382 and parameters: {'eta': 0.2950314645704334, 'n_estimators': 895, 'min_child_weight': 3, 'gamma': 0, 'subsample': 0.5676617506660743, 'max_depth': 41, 'colsample_bytree': 0.6747603332550576, 'reg_alpha': 3, 'reg_lambda': 1}. Best is trial 66 with value: 0.8419047619047619.\n",
            "[I 2024-12-14 14:51:12,436] Trial 86 finished with value: 0.757936507936508 and parameters: {'eta': 0.27817013969063176, 'n_estimators': 983, 'min_child_weight': 4, 'gamma': 1, 'subsample': 0.5734957195268973, 'max_depth': 41, 'colsample_bytree': 0.6678119495998778, 'reg_alpha': 3, 'reg_lambda': 1}. Best is trial 66 with value: 0.8419047619047619.\n",
            "[I 2024-12-14 14:51:14,069] Trial 87 finished with value: 0.7692063492063493 and parameters: {'eta': 0.16981439851746838, 'n_estimators': 952, 'min_child_weight': 3, 'gamma': 1, 'subsample': 0.5529047924250677, 'max_depth': 37, 'colsample_bytree': 0.693424444934123, 'reg_alpha': 3, 'reg_lambda': 2}. Best is trial 66 with value: 0.8419047619047619.\n",
            "[I 2024-12-14 14:51:15,991] Trial 88 finished with value: 0.7968253968253969 and parameters: {'eta': 0.3593443903318235, 'n_estimators': 896, 'min_child_weight': 2, 'gamma': 0, 'subsample': 0.5028012912395297, 'max_depth': 46, 'colsample_bytree': 0.6432733420638099, 'reg_alpha': 3, 'reg_lambda': 1}. Best is trial 66 with value: 0.8419047619047619.\n",
            "[I 2024-12-14 14:51:17,773] Trial 89 finished with value: 0.7182539682539681 and parameters: {'eta': 0.011499162402089425, 'n_estimators': 108, 'min_child_weight': 5, 'gamma': 0, 'subsample': 0.5194434745086015, 'max_depth': 49, 'colsample_bytree': 0.6742989882374464, 'reg_alpha': 4, 'reg_lambda': 1}. Best is trial 66 with value: 0.8419047619047619.\n",
            "[I 2024-12-14 14:51:20,214] Trial 90 finished with value: 0.7353968253968254 and parameters: {'eta': 0.30928276226455614, 'n_estimators': 999, 'min_child_weight': 3, 'gamma': 1, 'subsample': 0.5468607190380043, 'max_depth': 40, 'colsample_bytree': 0.6939692311131784, 'reg_alpha': 5, 'reg_lambda': 2}. Best is trial 66 with value: 0.8419047619047619.\n",
            "[I 2024-12-14 14:51:24,196] Trial 91 finished with value: 0.8023809523809524 and parameters: {'eta': 0.3584208885646896, 'n_estimators': 901, 'min_child_weight': 2, 'gamma': 0, 'subsample': 0.5057504741316923, 'max_depth': 46, 'colsample_bytree': 0.6501574969560331, 'reg_alpha': 3, 'reg_lambda': 1}. Best is trial 66 with value: 0.8419047619047619.\n",
            "[I 2024-12-14 14:51:26,113] Trial 92 finished with value: 0.796984126984127 and parameters: {'eta': 0.24950393793648007, 'n_estimators': 892, 'min_child_weight': 2, 'gamma': 0, 'subsample': 0.5228662747828935, 'max_depth': 46, 'colsample_bytree': 0.7249156022406555, 'reg_alpha': 3, 'reg_lambda': 0}. Best is trial 66 with value: 0.8419047619047619.\n",
            "[I 2024-12-14 14:51:27,920] Trial 93 finished with value: 0.7971428571428572 and parameters: {'eta': 0.22225881146106255, 'n_estimators': 935, 'min_child_weight': 2, 'gamma': 0, 'subsample': 0.5220346468845545, 'max_depth': 44, 'colsample_bytree': 0.6601364400829418, 'reg_alpha': 5, 'reg_lambda': 0}. Best is trial 66 with value: 0.8419047619047619.\n",
            "[I 2024-12-14 14:51:29,476] Trial 94 finished with value: 0.6441269841269841 and parameters: {'eta': 0.30774781946515023, 'n_estimators': 932, 'min_child_weight': 2, 'gamma': 9, 'subsample': 0.5675777891957574, 'max_depth': 44, 'colsample_bytree': 0.6566147423614462, 'reg_alpha': 5, 'reg_lambda': 1}. Best is trial 66 with value: 0.8419047619047619.\n",
            "[I 2024-12-14 14:51:31,257] Trial 95 finished with value: 0.78 and parameters: {'eta': 0.3732142332189945, 'n_estimators': 576, 'min_child_weight': 2, 'gamma': 0, 'subsample': 0.5390439902768914, 'max_depth': 49, 'colsample_bytree': 0.626078628880215, 'reg_alpha': 6, 'reg_lambda': 2}. Best is trial 66 with value: 0.8419047619047619.\n",
            "[I 2024-12-14 14:51:32,898] Trial 96 finished with value: 0.7574603174603174 and parameters: {'eta': 0.3288971859045262, 'n_estimators': 954, 'min_child_weight': 2, 'gamma': 1, 'subsample': 0.5809497413575632, 'max_depth': 41, 'colsample_bytree': 0.6344757892047551, 'reg_alpha': 4, 'reg_lambda': 3}. Best is trial 66 with value: 0.8419047619047619.\n",
            "[I 2024-12-14 14:51:37,285] Trial 97 finished with value: 0.6441269841269841 and parameters: {'eta': 0.25907165448740704, 'n_estimators': 864, 'min_child_weight': 2, 'gamma': 1, 'subsample': 0.5137778645882481, 'max_depth': 44, 'colsample_bytree': 0.6071260950278895, 'reg_alpha': 10, 'reg_lambda': 0}. Best is trial 66 with value: 0.8419047619047619.\n",
            "[I 2024-12-14 14:51:38,989] Trial 98 finished with value: 0.6611111111111111 and parameters: {'eta': 0.42737462545279936, 'n_estimators': 975, 'min_child_weight': 8, 'gamma': 0, 'subsample': 0.5598867434328226, 'max_depth': 42, 'colsample_bytree': 0.7483381029194061, 'reg_alpha': 5, 'reg_lambda': 0}. Best is trial 66 with value: 0.8419047619047619.\n",
            "[I 2024-12-14 14:51:40,903] Trial 99 finished with value: 0.8082539682539682 and parameters: {'eta': 0.47325290926153407, 'n_estimators': 475, 'min_child_weight': 3, 'gamma': 0, 'subsample': 0.5291681968547411, 'max_depth': 48, 'colsample_bytree': 0.6644809367381245, 'reg_alpha': 3, 'reg_lambda': 1}. Best is trial 66 with value: 0.8419047619047619.\n",
            "[I 2024-12-14 14:51:42,543] Trial 100 finished with value: 0.7804761904761904 and parameters: {'eta': 0.5620871232358134, 'n_estimators': 811, 'min_child_weight': 2, 'gamma': 1, 'subsample': 0.5232582705045211, 'max_depth': 50, 'colsample_bytree': 0.6875371362862605, 'reg_alpha': 4, 'reg_lambda': 1}. Best is trial 66 with value: 0.8419047619047619.\n",
            "[I 2024-12-14 14:51:44,472] Trial 101 finished with value: 0.8025396825396826 and parameters: {'eta': 0.5326381016160796, 'n_estimators': 476, 'min_child_weight': 3, 'gamma': 0, 'subsample': 0.5441457307926135, 'max_depth': 46, 'colsample_bytree': 0.673750932973467, 'reg_alpha': 3, 'reg_lambda': 1}. Best is trial 66 with value: 0.8419047619047619.\n",
            "[I 2024-12-14 14:51:46,231] Trial 102 finished with value: 0.7293650793650794 and parameters: {'eta': 0.52714724307568, 'n_estimators': 468, 'min_child_weight': 3, 'gamma': 0, 'subsample': 0.5302875263554097, 'max_depth': 46, 'colsample_bytree': 0.6671439675528936, 'reg_alpha': 7, 'reg_lambda': 1}. Best is trial 66 with value: 0.8419047619047619.\n",
            "[I 2024-12-14 14:51:49,913] Trial 103 finished with value: 0.7747619047619048 and parameters: {'eta': 0.4658477941484931, 'n_estimators': 437, 'min_child_weight': 3, 'gamma': 0, 'subsample': 0.5085032996464988, 'max_depth': 48, 'colsample_bytree': 0.6474716307486481, 'reg_alpha': 4, 'reg_lambda': 2}. Best is trial 66 with value: 0.8419047619047619.\n",
            "[I 2024-12-14 14:51:52,457] Trial 104 finished with value: 0.6723809523809524 and parameters: {'eta': 0.4772797504321245, 'n_estimators': 443, 'min_child_weight': 2, 'gamma': 7, 'subsample': 0.5449367448759997, 'max_depth': 49, 'colsample_bytree': 0.6607047852614601, 'reg_alpha': 3, 'reg_lambda': 1}. Best is trial 66 with value: 0.8419047619047619.\n",
            "[I 2024-12-14 14:51:54,366] Trial 105 finished with value: 0.78 and parameters: {'eta': 0.38224561948640523, 'n_estimators': 324, 'min_child_weight': 4, 'gamma': 0, 'subsample': 0.5665013999729344, 'max_depth': 46, 'colsample_bytree': 0.6403023934464952, 'reg_alpha': 3, 'reg_lambda': 1}. Best is trial 66 with value: 0.8419047619047619.\n",
            "[I 2024-12-14 14:51:55,996] Trial 106 finished with value: 0.7747619047619048 and parameters: {'eta': 0.5405660010982546, 'n_estimators': 527, 'min_child_weight': 2, 'gamma': 1, 'subsample': 0.538228406247873, 'max_depth': 44, 'colsample_bytree': 0.7019746344838541, 'reg_alpha': 4, 'reg_lambda': 2}. Best is trial 66 with value: 0.8419047619047619.\n",
            "[I 2024-12-14 14:51:57,919] Trial 107 finished with value: 0.813809523809524 and parameters: {'eta': 0.5760237551529648, 'n_estimators': 387, 'min_child_weight': 3, 'gamma': 0, 'subsample': 0.5869381671250441, 'max_depth': 48, 'colsample_bytree': 0.6259247931974876, 'reg_alpha': 3, 'reg_lambda': 1}. Best is trial 66 with value: 0.8419047619047619.\n",
            "[I 2024-12-14 14:51:59,561] Trial 108 finished with value: 0.7688888888888888 and parameters: {'eta': 0.4383300816662191, 'n_estimators': 397, 'min_child_weight': 3, 'gamma': 1, 'subsample': 0.5893117262072486, 'max_depth': 48, 'colsample_bytree': 0.6316068275132312, 'reg_alpha': 3, 'reg_lambda': 2}. Best is trial 66 with value: 0.8419047619047619.\n",
            "[I 2024-12-14 14:52:01,734] Trial 109 finished with value: 0.8138095238095238 and parameters: {'eta': 0.5771784599820299, 'n_estimators': 521, 'min_child_weight': 2, 'gamma': 0, 'subsample': 0.5265749459041986, 'max_depth': 39, 'colsample_bytree': 0.5921353547595721, 'reg_alpha': 3, 'reg_lambda': 1}. Best is trial 66 with value: 0.8419047619047619.\n",
            "[I 2024-12-14 14:52:06,287] Trial 110 finished with value: 0.8080952380952382 and parameters: {'eta': 0.577129373598985, 'n_estimators': 502, 'min_child_weight': 2, 'gamma': 0, 'subsample': 0.5265785665248962, 'max_depth': 39, 'colsample_bytree': 0.6233150343746559, 'reg_alpha': 3, 'reg_lambda': 1}. Best is trial 66 with value: 0.8419047619047619.\n",
            "[I 2024-12-14 14:52:08,220] Trial 111 finished with value: 0.8023809523809524 and parameters: {'eta': 0.577323779787331, 'n_estimators': 515, 'min_child_weight': 2, 'gamma': 0, 'subsample': 0.5260529497807706, 'max_depth': 35, 'colsample_bytree': 0.5915708977211076, 'reg_alpha': 3, 'reg_lambda': 1}. Best is trial 66 with value: 0.8419047619047619.\n",
            "[I 2024-12-14 14:52:10,116] Trial 112 finished with value: 0.8023809523809525 and parameters: {'eta': 0.5814015814256513, 'n_estimators': 518, 'min_child_weight': 2, 'gamma': 0, 'subsample': 0.5161036301482909, 'max_depth': 38, 'colsample_bytree': 0.5923382278191058, 'reg_alpha': 3, 'reg_lambda': 1}. Best is trial 66 with value: 0.8419047619047619.\n",
            "[I 2024-12-14 14:52:12,152] Trial 113 finished with value: 0.824920634920635 and parameters: {'eta': 0.6405302743754434, 'n_estimators': 499, 'min_child_weight': 2, 'gamma': 0, 'subsample': 0.5080983931489937, 'max_depth': 38, 'colsample_bytree': 0.6205277408439169, 'reg_alpha': 2, 'reg_lambda': 1}. Best is trial 66 with value: 0.8419047619047619.\n",
            "[I 2024-12-14 14:52:14,069] Trial 114 finished with value: 0.8080952380952382 and parameters: {'eta': 0.5547124279879083, 'n_estimators': 506, 'min_child_weight': 3, 'gamma': 0, 'subsample': 0.5372781499814195, 'max_depth': 40, 'colsample_bytree': 0.5586598863814123, 'reg_alpha': 2, 'reg_lambda': 1}. Best is trial 66 with value: 0.8419047619047619.\n",
            "[I 2024-12-14 14:52:16,469] Trial 115 finished with value: 0.785873015873016 and parameters: {'eta': 0.5593190812438619, 'n_estimators': 497, 'min_child_weight': 3, 'gamma': 1, 'subsample': 0.8513613556674541, 'max_depth': 40, 'colsample_bytree': 0.571918782307996, 'reg_alpha': 2, 'reg_lambda': 1}. Best is trial 66 with value: 0.8419047619047619.\n",
            "[I 2024-12-14 14:52:20,279] Trial 116 finished with value: 0.8082539682539682 and parameters: {'eta': 0.6523818762279858, 'n_estimators': 556, 'min_child_weight': 3, 'gamma': 0, 'subsample': 0.5388148058373736, 'max_depth': 37, 'colsample_bytree': 0.5187463657579985, 'reg_alpha': 2, 'reg_lambda': 2}. Best is trial 66 with value: 0.8419047619047619.\n",
            "[I 2024-12-14 14:52:22,018] Trial 117 finished with value: 0.7236507936507937 and parameters: {'eta': 0.6416701787976111, 'n_estimators': 576, 'min_child_weight': 6, 'gamma': 0, 'subsample': 0.530776597000347, 'max_depth': 36, 'colsample_bytree': 0.522883785653461, 'reg_alpha': 2, 'reg_lambda': 2}. Best is trial 66 with value: 0.8419047619047619.\n",
            "[I 2024-12-14 14:52:24,114] Trial 118 finished with value: 0.8476190476190476 and parameters: {'eta': 0.647051434718839, 'n_estimators': 553, 'min_child_weight': 3, 'gamma': 0, 'subsample': 0.9576951340389808, 'max_depth': 39, 'colsample_bytree': 0.5544323004687515, 'reg_alpha': 2, 'reg_lambda': 2}. Best is trial 118 with value: 0.8476190476190476.\n",
            "[I 2024-12-14 14:52:25,704] Trial 119 finished with value: 0.78 and parameters: {'eta': 0.6369203713493853, 'n_estimators': 557, 'min_child_weight': 4, 'gamma': 1, 'subsample': 0.9060220930641376, 'max_depth': 38, 'colsample_bytree': 0.5305291887652182, 'reg_alpha': 2, 'reg_lambda': 2}. Best is trial 118 with value: 0.8476190476190476.\n",
            "[I 2024-12-14 14:52:27,775] Trial 120 finished with value: 0.8419047619047619 and parameters: {'eta': 0.6693300363774844, 'n_estimators': 395, 'min_child_weight': 3, 'gamma': 0, 'subsample': 0.8258533591903702, 'max_depth': 33, 'colsample_bytree': 0.5041031955044943, 'reg_alpha': 2, 'reg_lambda': 3}. Best is trial 118 with value: 0.8476190476190476.\n",
            "[I 2024-12-14 14:52:31,173] Trial 121 finished with value: 0.8250793650793652 and parameters: {'eta': 0.6901018758777298, 'n_estimators': 382, 'min_child_weight': 3, 'gamma': 0, 'subsample': 0.9954468470377522, 'max_depth': 34, 'colsample_bytree': 0.5048825487297044, 'reg_alpha': 2, 'reg_lambda': 3}. Best is trial 118 with value: 0.8476190476190476.\n",
            "[I 2024-12-14 14:52:34,263] Trial 122 finished with value: 0.8420634920634921 and parameters: {'eta': 0.667629966835626, 'n_estimators': 371, 'min_child_weight': 3, 'gamma': 0, 'subsample': 0.9701764239397265, 'max_depth': 33, 'colsample_bytree': 0.5031318435552459, 'reg_alpha': 2, 'reg_lambda': 3}. Best is trial 118 with value: 0.8476190476190476.\n",
            "[I 2024-12-14 14:52:36,208] Trial 123 finished with value: 0.8417460317460318 and parameters: {'eta': 0.7017939134032811, 'n_estimators': 388, 'min_child_weight': 3, 'gamma': 0, 'subsample': 0.9986154663559277, 'max_depth': 32, 'colsample_bytree': 0.5022352292577565, 'reg_alpha': 2, 'reg_lambda': 3}. Best is trial 118 with value: 0.8476190476190476.\n",
            "[I 2024-12-14 14:52:38,251] Trial 124 finished with value: 0.8365079365079365 and parameters: {'eta': 0.695622539711883, 'n_estimators': 368, 'min_child_weight': 4, 'gamma': 0, 'subsample': 0.9981559734859669, 'max_depth': 34, 'colsample_bytree': 0.501583124718172, 'reg_alpha': 2, 'reg_lambda': 3}. Best is trial 118 with value: 0.8476190476190476.\n",
            "[I 2024-12-14 14:52:40,321] Trial 125 finished with value: 0.8365079365079365 and parameters: {'eta': 0.7088585219126133, 'n_estimators': 385, 'min_child_weight': 4, 'gamma': 0, 'subsample': 0.962678964482349, 'max_depth': 33, 'colsample_bytree': 0.505828162382795, 'reg_alpha': 2, 'reg_lambda': 3}. Best is trial 118 with value: 0.8476190476190476.\n",
            "[I 2024-12-14 14:52:41,851] Trial 126 finished with value: 0.7858730158730161 and parameters: {'eta': 0.7022968319859741, 'n_estimators': 374, 'min_child_weight': 5, 'gamma': 1, 'subsample': 0.9989610719665766, 'max_depth': 33, 'colsample_bytree': 0.5040116276334451, 'reg_alpha': 2, 'reg_lambda': 3}. Best is trial 118 with value: 0.8476190476190476.\n",
            "[I 2024-12-14 14:52:45,985] Trial 127 finished with value: 0.8365079365079365 and parameters: {'eta': 0.6745343351294314, 'n_estimators': 350, 'min_child_weight': 4, 'gamma': 0, 'subsample': 0.9655148400627398, 'max_depth': 31, 'colsample_bytree': 0.5017466816205193, 'reg_alpha': 2, 'reg_lambda': 3}. Best is trial 118 with value: 0.8476190476190476.\n",
            "[I 2024-12-14 14:52:48,544] Trial 128 finished with value: 0.8307936507936509 and parameters: {'eta': 0.6876092745204, 'n_estimators': 343, 'min_child_weight': 4, 'gamma': 0, 'subsample': 0.966379600979192, 'max_depth': 31, 'colsample_bytree': 0.5020872826847343, 'reg_alpha': 2, 'reg_lambda': 3}. Best is trial 118 with value: 0.8476190476190476.\n",
            "[I 2024-12-14 14:52:50,608] Trial 129 finished with value: 0.8365079365079365 and parameters: {'eta': 0.6900186276968798, 'n_estimators': 298, 'min_child_weight': 4, 'gamma': 0, 'subsample': 0.9649180518655505, 'max_depth': 31, 'colsample_bytree': 0.504319172343004, 'reg_alpha': 2, 'reg_lambda': 3}. Best is trial 118 with value: 0.8476190476190476.\n",
            "[I 2024-12-14 14:52:52,164] Trial 130 finished with value: 0.813809523809524 and parameters: {'eta': 0.6693258939303253, 'n_estimators': 300, 'min_child_weight': 4, 'gamma': 1, 'subsample': 0.9667732983313543, 'max_depth': 31, 'colsample_bytree': 0.5003386798513367, 'reg_alpha': 2, 'reg_lambda': 3}. Best is trial 118 with value: 0.8476190476190476.\n",
            "[I 2024-12-14 14:52:54,237] Trial 131 finished with value: 0.8252380952380953 and parameters: {'eta': 0.6843013835279125, 'n_estimators': 348, 'min_child_weight': 4, 'gamma': 0, 'subsample': 0.9628546751404092, 'max_depth': 33, 'colsample_bytree': 0.5332207727994756, 'reg_alpha': 2, 'reg_lambda': 4}. Best is trial 118 with value: 0.8476190476190476.\n",
            "[I 2024-12-14 14:52:56,238] Trial 132 finished with value: 0.7968253968253969 and parameters: {'eta': 0.7132470316558219, 'n_estimators': 353, 'min_child_weight': 5, 'gamma': 0, 'subsample': 0.964161997223166, 'max_depth': 33, 'colsample_bytree': 0.5375818999348114, 'reg_alpha': 2, 'reg_lambda': 4}. Best is trial 118 with value: 0.8476190476190476.\n",
            "[I 2024-12-14 14:53:01,230] Trial 133 finished with value: 0.8139682539682539 and parameters: {'eta': 0.6866091407262447, 'n_estimators': 419, 'min_child_weight': 4, 'gamma': 0, 'subsample': 0.9441529868905928, 'max_depth': 30, 'colsample_bytree': 0.5143343572618146, 'reg_alpha': 1, 'reg_lambda': 3}. Best is trial 118 with value: 0.8476190476190476.\n",
            "[I 2024-12-14 14:53:03,279] Trial 134 finished with value: 0.8365079365079365 and parameters: {'eta': 0.6744646638908064, 'n_estimators': 330, 'min_child_weight': 4, 'gamma': 0, 'subsample': 0.9844238692444738, 'max_depth': 32, 'colsample_bytree': 0.5310321798468071, 'reg_alpha': 2, 'reg_lambda': 3}. Best is trial 118 with value: 0.8476190476190476.\n",
            "[I 2024-12-14 14:53:05,318] Trial 135 finished with value: 0.830952380952381 and parameters: {'eta': 0.671915286118462, 'n_estimators': 256, 'min_child_weight': 4, 'gamma': 0, 'subsample': 0.9850305185394013, 'max_depth': 34, 'colsample_bytree': 0.5285004802254842, 'reg_alpha': 2, 'reg_lambda': 3}. Best is trial 118 with value: 0.8476190476190476.\n",
            "[I 2024-12-14 14:53:06,933] Trial 136 finished with value: 0.7915873015873016 and parameters: {'eta': 0.6726319760851738, 'n_estimators': 252, 'min_child_weight': 4, 'gamma': 1, 'subsample': 0.9800141041993169, 'max_depth': 32, 'colsample_bytree': 0.5495055647852284, 'reg_alpha': 2, 'reg_lambda': 3}. Best is trial 118 with value: 0.8476190476190476.\n",
            "[I 2024-12-14 14:53:09,062] Trial 137 finished with value: 0.8419047619047619 and parameters: {'eta': 0.7123021800090545, 'n_estimators': 252, 'min_child_weight': 4, 'gamma': 0, 'subsample': 0.9455164689443858, 'max_depth': 34, 'colsample_bytree': 0.5268985860700716, 'reg_alpha': 1, 'reg_lambda': 4}. Best is trial 118 with value: 0.8476190476190476.\n",
            "[I 2024-12-14 14:53:12,130] Trial 138 finished with value: 0.8250793650793652 and parameters: {'eta': 0.7119766071928834, 'n_estimators': 238, 'min_child_weight': 4, 'gamma': 0, 'subsample': 0.9499469192592013, 'max_depth': 29, 'colsample_bytree': 0.5282572041578524, 'reg_alpha': 1, 'reg_lambda': 4}. Best is trial 118 with value: 0.8476190476190476.\n",
            "[I 2024-12-14 14:53:15,760] Trial 139 finished with value: 0.7912698412698413 and parameters: {'eta': 0.7822966078976568, 'n_estimators': 322, 'min_child_weight': 5, 'gamma': 0, 'subsample': 0.9688304410416692, 'max_depth': 32, 'colsample_bytree': 0.5121867487029891, 'reg_alpha': 1, 'reg_lambda': 4}. Best is trial 118 with value: 0.8476190476190476.\n",
            "[I 2024-12-14 14:53:17,411] Trial 140 finished with value: 0.8082539682539682 and parameters: {'eta': 0.665284101436909, 'n_estimators': 277, 'min_child_weight': 4, 'gamma': 1, 'subsample': 0.9464470363984137, 'max_depth': 34, 'colsample_bytree': 0.5361246783545116, 'reg_alpha': 1, 'reg_lambda': 3}. Best is trial 118 with value: 0.8476190476190476.\n",
            "[I 2024-12-14 14:53:19,475] Trial 141 finished with value: 0.830952380952381 and parameters: {'eta': 0.6879164563780821, 'n_estimators': 354, 'min_child_weight': 4, 'gamma': 0, 'subsample': 0.9925412562158304, 'max_depth': 34, 'colsample_bytree': 0.5114955867880013, 'reg_alpha': 2, 'reg_lambda': 3}. Best is trial 118 with value: 0.8476190476190476.\n",
            "[I 2024-12-14 14:53:21,528] Trial 142 finished with value: 0.8365079365079365 and parameters: {'eta': 0.7187670059229424, 'n_estimators': 364, 'min_child_weight': 4, 'gamma': 0, 'subsample': 0.988971068105791, 'max_depth': 31, 'colsample_bytree': 0.5489197955431158, 'reg_alpha': 2, 'reg_lambda': 3}. Best is trial 118 with value: 0.8476190476190476.\n",
            "[I 2024-12-14 14:53:23,578] Trial 143 finished with value: 0.8422222222222222 and parameters: {'eta': 0.7263277863929092, 'n_estimators': 329, 'min_child_weight': 4, 'gamma': 0, 'subsample': 0.9827666155852564, 'max_depth': 31, 'colsample_bytree': 0.5461767043270781, 'reg_alpha': 2, 'reg_lambda': 3}. Best is trial 118 with value: 0.8476190476190476.\n",
            "[I 2024-12-14 14:53:28,761] Trial 144 finished with value: 0.8365079365079365 and parameters: {'eta': 0.7234897696907502, 'n_estimators': 201, 'min_child_weight': 4, 'gamma': 0, 'subsample': 0.9869802808023073, 'max_depth': 30, 'colsample_bytree': 0.545645289930882, 'reg_alpha': 2, 'reg_lambda': 3}. Best is trial 118 with value: 0.8476190476190476.\n",
            "[I 2024-12-14 14:53:30,789] Trial 145 finished with value: 0.8136507936507936 and parameters: {'eta': 0.7218407010349865, 'n_estimators': 213, 'min_child_weight': 5, 'gamma': 0, 'subsample': 0.9850654936894402, 'max_depth': 30, 'colsample_bytree': 0.5485148827809265, 'reg_alpha': 2, 'reg_lambda': 3}. Best is trial 118 with value: 0.8476190476190476.\n",
            "[I 2024-12-14 14:53:32,955] Trial 146 finished with value: 0.8250793650793652 and parameters: {'eta': 0.7612121213980994, 'n_estimators': 198, 'min_child_weight': 4, 'gamma': 0, 'subsample': 0.9766988776657051, 'max_depth': 28, 'colsample_bytree': 0.5562779843270363, 'reg_alpha': 1, 'reg_lambda': 3}. Best is trial 118 with value: 0.8476190476190476.\n",
            "[I 2024-12-14 14:53:35,020] Trial 147 finished with value: 0.8365079365079365 and parameters: {'eta': 0.7308432506299333, 'n_estimators': 272, 'min_child_weight': 4, 'gamma': 0, 'subsample': 0.9305050399819573, 'max_depth': 35, 'colsample_bytree': 0.522641848705554, 'reg_alpha': 2, 'reg_lambda': 4}. Best is trial 118 with value: 0.8476190476190476.\n",
            "[I 2024-12-14 14:53:36,603] Trial 148 finished with value: 0.7860317460317461 and parameters: {'eta': 0.7986432168552303, 'n_estimators': 297, 'min_child_weight': 4, 'gamma': 1, 'subsample': 0.9325358800614177, 'max_depth': 30, 'colsample_bytree': 0.5186456387749957, 'reg_alpha': 2, 'reg_lambda': 4}. Best is trial 118 with value: 0.8476190476190476.\n",
            "[I 2024-12-14 14:53:39,607] Trial 149 finished with value: 0.8360317460317461 and parameters: {'eta': 0.7391660983270987, 'n_estimators': 155, 'min_child_weight': 4, 'gamma': 0, 'subsample': 0.9176959503603195, 'max_depth': 32, 'colsample_bytree': 0.5437751512859936, 'reg_alpha': 1, 'reg_lambda': 3}. Best is trial 118 with value: 0.8476190476190476.\n",
            "[I 2024-12-14 14:53:43,610] Trial 150 finished with value: 0.7855555555555556 and parameters: {'eta': 0.7083993341915327, 'n_estimators': 326, 'min_child_weight': 5, 'gamma': 0, 'subsample': 0.9556570491820177, 'max_depth': 35, 'colsample_bytree': 0.5688487764970618, 'reg_alpha': 2, 'reg_lambda': 3}. Best is trial 118 with value: 0.8476190476190476.\n",
            "[I 2024-12-14 14:53:45,884] Trial 151 finished with value: 0.8193650793650795 and parameters: {'eta': 0.7399650000920307, 'n_estimators': 178, 'min_child_weight': 4, 'gamma': 0, 'subsample': 0.918445658940887, 'max_depth': 32, 'colsample_bytree': 0.5196729981612402, 'reg_alpha': 1, 'reg_lambda': 3}. Best is trial 118 with value: 0.8476190476190476.\n",
            "[I 2024-12-14 14:53:50,941] Trial 152 finished with value: 0.8477777777777777 and parameters: {'eta': 0.7473199719571468, 'n_estimators': 154, 'min_child_weight': 4, 'gamma': 0, 'subsample': 0.9356278271741647, 'max_depth': 31, 'colsample_bytree': 0.5436685428128311, 'reg_alpha': 1, 'reg_lambda': 3}. Best is trial 152 with value: 0.8477777777777777.\n",
            "[I 2024-12-14 14:53:54,126] Trial 153 finished with value: 0.8420634920634921 and parameters: {'eta': 0.7827675884193338, 'n_estimators': 371, 'min_child_weight': 4, 'gamma': 0, 'subsample': 0.9360028019534443, 'max_depth': 29, 'colsample_bytree': 0.5106304986850346, 'reg_alpha': 2, 'reg_lambda': 4}. Best is trial 152 with value: 0.8477777777777777.\n",
            "[I 2024-12-14 14:53:58,042] Trial 154 finished with value: 0.7912698412698413 and parameters: {'eta': 0.7852294105861226, 'n_estimators': 369, 'min_child_weight': 5, 'gamma': 0, 'subsample': 0.9732624422329437, 'max_depth': 31, 'colsample_bytree': 0.5109259203025577, 'reg_alpha': 1, 'reg_lambda': 3}. Best is trial 152 with value: 0.8477777777777777.\n",
            "[I 2024-12-14 14:54:00,123] Trial 155 finished with value: 0.8365079365079365 and parameters: {'eta': 0.8296664241518605, 'n_estimators': 131, 'min_child_weight': 4, 'gamma': 0, 'subsample': 0.9384299048047648, 'max_depth': 29, 'colsample_bytree': 0.5400533765398664, 'reg_alpha': 2, 'reg_lambda': 4}. Best is trial 152 with value: 0.8477777777777777.\n",
            "[I 2024-12-14 14:54:01,770] Trial 156 finished with value: 0.7857142857142858 and parameters: {'eta': 0.7556795742192917, 'n_estimators': 425, 'min_child_weight': 4, 'gamma': 1, 'subsample': 0.8997255887383904, 'max_depth': 27, 'colsample_bytree': 0.5592100236235278, 'reg_alpha': 2, 'reg_lambda': 3}. Best is trial 152 with value: 0.8477777777777777.\n",
            "[I 2024-12-14 14:54:03,875] Trial 157 finished with value: 0.8307936507936509 and parameters: {'eta': 0.6068401630959037, 'n_estimators': 401, 'min_child_weight': 4, 'gamma': 0, 'subsample': 0.9537546240703011, 'max_depth': 29, 'colsample_bytree': 0.525399005824578, 'reg_alpha': 2, 'reg_lambda': 4}. Best is trial 152 with value: 0.8477777777777777.\n",
            "[I 2024-12-14 14:54:05,965] Trial 158 finished with value: 0.819047619047619 and parameters: {'eta': 0.7016920866442602, 'n_estimators': 304, 'min_child_weight': 4, 'gamma': 0, 'subsample': 0.8119802557350448, 'max_depth': 30, 'colsample_bytree': 0.510815521483853, 'reg_alpha': 1, 'reg_lambda': 3}. Best is trial 152 with value: 0.8477777777777777.\n",
            "[I 2024-12-14 14:54:10,921] Trial 159 finished with value: 0.8023809523809524 and parameters: {'eta': 0.6567927797147076, 'n_estimators': 364, 'min_child_weight': 5, 'gamma': 0, 'subsample': 0.9872362217651195, 'max_depth': 32, 'colsample_bytree': 0.5511553336177126, 'reg_alpha': 2, 'reg_lambda': 3}. Best is trial 152 with value: 0.8477777777777777.\n",
            "[I 2024-12-14 14:54:13,075] Trial 160 finished with value: 0.8366666666666667 and parameters: {'eta': 0.7766097218445389, 'n_estimators': 401, 'min_child_weight': 4, 'gamma': 0, 'subsample': 0.9996139599312108, 'max_depth': 31, 'colsample_bytree': 0.5025132117079368, 'reg_alpha': 1, 'reg_lambda': 3}. Best is trial 152 with value: 0.8477777777777777.\n",
            "[I 2024-12-14 14:54:15,267] Trial 161 finished with value: 0.8255555555555555 and parameters: {'eta': 0.7714940033026281, 'n_estimators': 405, 'min_child_weight': 4, 'gamma': 0, 'subsample': 0.9795996431510613, 'max_depth': 31, 'colsample_bytree': 0.5035953570368901, 'reg_alpha': 1, 'reg_lambda': 3}. Best is trial 152 with value: 0.8477777777777777.\n",
            "[I 2024-12-14 14:54:17,444] Trial 162 finished with value: 0.830952380952381 and parameters: {'eta': 0.7179236158129427, 'n_estimators': 334, 'min_child_weight': 4, 'gamma': 0, 'subsample': 0.9990938536781739, 'max_depth': 33, 'colsample_bytree': 0.5339382844055602, 'reg_alpha': 1, 'reg_lambda': 3}. Best is trial 152 with value: 0.8477777777777777.\n",
            "[I 2024-12-14 14:54:19,558] Trial 163 finished with value: 0.8363492063492064 and parameters: {'eta': 0.8035068896136487, 'n_estimators': 388, 'min_child_weight': 4, 'gamma': 0, 'subsample': 0.9762284985565763, 'max_depth': 28, 'colsample_bytree': 0.5146822524474446, 'reg_alpha': 2, 'reg_lambda': 3}. Best is trial 152 with value: 0.8477777777777777.\n",
            "[I 2024-12-14 14:54:24,645] Trial 164 finished with value: 0.8365079365079365 and parameters: {'eta': 0.7489066379516711, 'n_estimators': 363, 'min_child_weight': 4, 'gamma': 0, 'subsample': 0.9898007624885471, 'max_depth': 31, 'colsample_bytree': 0.5005185649997741, 'reg_alpha': 2, 'reg_lambda': 3}. Best is trial 152 with value: 0.8477777777777777.\n",
            "[I 2024-12-14 14:54:26,782] Trial 165 finished with value: 0.8307936507936509 and parameters: {'eta': 0.6343898243252128, 'n_estimators': 408, 'min_child_weight': 4, 'gamma': 0, 'subsample': 0.9615804492778476, 'max_depth': 36, 'colsample_bytree': 0.542805809107741, 'reg_alpha': 1, 'reg_lambda': 4}. Best is trial 152 with value: 0.8477777777777777.\n",
            "[I 2024-12-14 14:54:28,426] Trial 166 finished with value: 0.813809523809524 and parameters: {'eta': 0.7732703005160453, 'n_estimators': 280, 'min_child_weight': 4, 'gamma': 1, 'subsample': 0.9570559862945885, 'max_depth': 30, 'colsample_bytree': 0.5207012098697825, 'reg_alpha': 2, 'reg_lambda': 3}. Best is trial 152 with value: 0.8477777777777777.\n",
            "[I 2024-12-14 14:54:30,549] Trial 167 finished with value: 0.8477777777777777 and parameters: {'eta': 0.849248200422038, 'n_estimators': 225, 'min_child_weight': 4, 'gamma': 0, 'subsample': 0.9896607617840284, 'max_depth': 33, 'colsample_bytree': 0.5305414236128122, 'reg_alpha': 2, 'reg_lambda': 4}. Best is trial 152 with value: 0.8477777777777777.\n",
            "[I 2024-12-14 14:54:32,238] Trial 168 finished with value: 0.8028571428571428 and parameters: {'eta': 0.8247096685476998, 'n_estimators': 306, 'min_child_weight': 5, 'gamma': 1, 'subsample': 0.9406510843501089, 'max_depth': 36, 'colsample_bytree': 0.5306406269785667, 'reg_alpha': 1, 'reg_lambda': 4}. Best is trial 152 with value: 0.8477777777777777.\n",
            "[I 2024-12-14 14:54:34,316] Trial 169 finished with value: 0.8307936507936509 and parameters: {'eta': 0.8601260010711974, 'n_estimators': 234, 'min_child_weight': 4, 'gamma': 0, 'subsample': 0.9727735935536449, 'max_depth': 33, 'colsample_bytree': 0.5123488125752717, 'reg_alpha': 2, 'reg_lambda': 4}. Best is trial 152 with value: 0.8477777777777777.\n",
            "[I 2024-12-14 14:54:39,500] Trial 170 finished with value: 0.819047619047619 and parameters: {'eta': 0.9005790447276527, 'n_estimators': 450, 'min_child_weight': 4, 'gamma': 0, 'subsample': 0.8761225059971609, 'max_depth': 32, 'colsample_bytree': 0.5657141561840245, 'reg_alpha': 2, 'reg_lambda': 4}. Best is trial 152 with value: 0.8477777777777777.\n",
            "[I 2024-12-14 14:54:41,128] Trial 171 finished with value: 0.7801587301587303 and parameters: {'eta': 0.721899261410275, 'n_estimators': 192, 'min_child_weight': 4, 'gamma': 0, 'subsample': 0.9897945346817447, 'max_depth': 31, 'colsample_bytree': 0.5257049654291218, 'reg_alpha': 9, 'reg_lambda': 3}. Best is trial 152 with value: 0.8477777777777777.\n",
            "[I 2024-12-14 14:54:43,120] Trial 172 finished with value: 0.8363492063492064 and parameters: {'eta': 0.6999497773428509, 'n_estimators': 224, 'min_child_weight': 4, 'gamma': 0, 'subsample': 0.9996423795314047, 'max_depth': 34, 'colsample_bytree': 0.5791535551539511, 'reg_alpha': 2, 'reg_lambda': 2}. Best is trial 152 with value: 0.8477777777777777.\n",
            "[I 2024-12-14 14:54:45,157] Trial 173 finished with value: 0.8422222222222222 and parameters: {'eta': 0.66140251155742, 'n_estimators': 161, 'min_child_weight': 4, 'gamma': 0, 'subsample': 0.9798670970553072, 'max_depth': 33, 'colsample_bytree': 0.5004718837637006, 'reg_alpha': 2, 'reg_lambda': 3}. Best is trial 152 with value: 0.8477777777777777.\n",
            "[I 2024-12-14 14:54:47,141] Trial 174 finished with value: 0.8026984126984127 and parameters: {'eta': 0.6645177937780162, 'n_estimators': 164, 'min_child_weight': 5, 'gamma': 0, 'subsample': 0.97660430985707, 'max_depth': 33, 'colsample_bytree': 0.5084229930336843, 'reg_alpha': 2, 'reg_lambda': 3}. Best is trial 152 with value: 0.8477777777777777.\n",
            "[I 2024-12-14 14:54:50,038] Trial 175 finished with value: 0.8250793650793652 and parameters: {'eta': 0.6228371960443476, 'n_estimators': 143, 'min_child_weight': 4, 'gamma': 0, 'subsample': 0.9539852317463257, 'max_depth': 25, 'colsample_bytree': 0.5024022566120592, 'reg_alpha': 2, 'reg_lambda': 3}. Best is trial 152 with value: 0.8477777777777777.\n",
            "[I 2024-12-14 14:54:54,304] Trial 176 finished with value: 0.8196825396825396 and parameters: {'eta': 0.6488134761279178, 'n_estimators': 379, 'min_child_weight': 4, 'gamma': 0, 'subsample': 0.970372268009077, 'max_depth': 32, 'colsample_bytree': 0.5004789727517225, 'reg_alpha': 1, 'reg_lambda': 3}. Best is trial 152 with value: 0.8477777777777777.\n",
            "[I 2024-12-14 14:54:56,320] Trial 177 finished with value: 0.8422222222222222 and parameters: {'eta': 0.6999212666647981, 'n_estimators': 339, 'min_child_weight': 4, 'gamma': 0, 'subsample': 0.9835020421880774, 'max_depth': 34, 'colsample_bytree': 0.5190292981595311, 'reg_alpha': 2, 'reg_lambda': 2}. Best is trial 152 with value: 0.8477777777777777.\n",
            "[I 2024-12-14 14:54:58,303] Trial 178 finished with value: 0.8136507936507937 and parameters: {'eta': 0.6847974897692778, 'n_estimators': 323, 'min_child_weight': 4, 'gamma': 0, 'subsample': 0.7633745640277965, 'max_depth': 34, 'colsample_bytree': 0.5231155867699367, 'reg_alpha': 2, 'reg_lambda': 2}. Best is trial 152 with value: 0.8477777777777777.\n",
            "[I 2024-12-14 14:54:59,885] Trial 179 finished with value: 0.7409523809523809 and parameters: {'eta': 0.7015015470096344, 'n_estimators': 339, 'min_child_weight': 3, 'gamma': 7, 'subsample': 0.9621798339234728, 'max_depth': 35, 'colsample_bytree': 0.5165344547649275, 'reg_alpha': 1, 'reg_lambda': 5}. Best is trial 152 with value: 0.8477777777777777.\n",
            "[I 2024-12-14 14:55:01,931] Trial 180 finished with value: 0.8307936507936509 and parameters: {'eta': 0.6607485553768229, 'n_estimators': 255, 'min_child_weight': 4, 'gamma': 0, 'subsample': 0.9495624677675432, 'max_depth': 36, 'colsample_bytree': 0.5346996096757397, 'reg_alpha': 2, 'reg_lambda': 2}. Best is trial 152 with value: 0.8477777777777777.\n",
            "[I 2024-12-14 14:55:05,524] Trial 181 finished with value: 0.8366666666666667 and parameters: {'eta': 0.7436342916152932, 'n_estimators': 645, 'min_child_weight': 4, 'gamma': 0, 'subsample': 0.9837271105505222, 'max_depth': 33, 'colsample_bytree': 0.5120884662330942, 'reg_alpha': 2, 'reg_lambda': 3}. Best is trial 152 with value: 0.8477777777777777.\n",
            "[I 2024-12-14 14:55:08,994] Trial 182 finished with value: 0.8422222222222222 and parameters: {'eta': 0.7432692311516844, 'n_estimators': 623, 'min_child_weight': 4, 'gamma': 0, 'subsample': 0.9799457089534992, 'max_depth': 33, 'colsample_bytree': 0.5120616987581361, 'reg_alpha': 2, 'reg_lambda': 2}. Best is trial 152 with value: 0.8477777777777777.\n",
            "[I 2024-12-14 14:55:11,042] Trial 183 finished with value: 0.8420634920634921 and parameters: {'eta': 0.7482434049397008, 'n_estimators': 654, 'min_child_weight': 4, 'gamma': 0, 'subsample': 0.9750440694203764, 'max_depth': 33, 'colsample_bytree': 0.510488815407221, 'reg_alpha': 2, 'reg_lambda': 2}. Best is trial 152 with value: 0.8477777777777777.\n",
            "[I 2024-12-14 14:55:13,044] Trial 184 finished with value: 0.8422222222222222 and parameters: {'eta': 0.7502442344877208, 'n_estimators': 646, 'min_child_weight': 4, 'gamma': 0, 'subsample': 0.998804712556773, 'max_depth': 33, 'colsample_bytree': 0.5159471685000877, 'reg_alpha': 2, 'reg_lambda': 2}. Best is trial 152 with value: 0.8477777777777777.\n",
            "[I 2024-12-14 14:55:15,043] Trial 185 finished with value: 0.8534920634920635 and parameters: {'eta': 0.7913414623910281, 'n_estimators': 640, 'min_child_weight': 4, 'gamma': 0, 'subsample': 0.9958455621322859, 'max_depth': 33, 'colsample_bytree': 0.5147575725305236, 'reg_alpha': 2, 'reg_lambda': 2}. Best is trial 185 with value: 0.8534920634920635.\n",
            "[I 2024-12-14 14:55:16,580] Trial 186 finished with value: 0.6895238095238094 and parameters: {'eta': 0.7923578236398149, 'n_estimators': 664, 'min_child_weight': 5, 'gamma': 9, 'subsample': 0.9957041804572876, 'max_depth': 35, 'colsample_bytree': 0.5169574948284538, 'reg_alpha': 2, 'reg_lambda': 2}. Best is trial 185 with value: 0.8534920634920635.\n",
            "[I 2024-12-14 14:55:21,841] Trial 187 finished with value: 0.8471428571428572 and parameters: {'eta': 0.8420514771304451, 'n_estimators': 633, 'min_child_weight': 3, 'gamma': 0, 'subsample': 0.9780316370398691, 'max_depth': 34, 'colsample_bytree': 0.5238284348814781, 'reg_alpha': 1, 'reg_lambda': 2}. Best is trial 185 with value: 0.8534920634920635.\n",
            "[I 2024-12-14 14:55:24,006] Trial 188 finished with value: 0.853015873015873 and parameters: {'eta': 0.8117485621753803, 'n_estimators': 638, 'min_child_weight': 3, 'gamma': 0, 'subsample': 0.9830353844834987, 'max_depth': 33, 'colsample_bytree': 0.5231831470982499, 'reg_alpha': 1, 'reg_lambda': 2}. Best is trial 185 with value: 0.8534920634920635.\n",
            "[I 2024-12-14 14:55:25,565] Trial 189 finished with value: 0.7517460317460317 and parameters: {'eta': 0.8506869773705467, 'n_estimators': 628, 'min_child_weight': 3, 'gamma': 6, 'subsample': 0.9783817477367617, 'max_depth': 33, 'colsample_bytree': 0.5252388231173627, 'reg_alpha': 1, 'reg_lambda': 2}. Best is trial 185 with value: 0.8534920634920635.\n",
            "[I 2024-12-14 14:55:27,555] Trial 190 finished with value: 0.7796825396825398 and parameters: {'eta': 0.8135036105473478, 'n_estimators': 608, 'min_child_weight': 6, 'gamma': 0, 'subsample': 0.9748588477066139, 'max_depth': 34, 'colsample_bytree': 0.5377074752505683, 'reg_alpha': 1, 'reg_lambda': 2}. Best is trial 185 with value: 0.8534920634920635.\n",
            "[I 2024-12-14 14:55:29,715] Trial 191 finished with value: 0.8474603174603175 and parameters: {'eta': 0.8466623841038547, 'n_estimators': 660, 'min_child_weight': 3, 'gamma': 0, 'subsample': 0.9845928890987287, 'max_depth': 33, 'colsample_bytree': 0.5155185468726304, 'reg_alpha': 1, 'reg_lambda': 2}. Best is trial 185 with value: 0.8534920634920635.\n",
            "[I 2024-12-14 14:55:32,614] Trial 192 finished with value: 0.8300000000000001 and parameters: {'eta': 0.8511421635178075, 'n_estimators': 693, 'min_child_weight': 3, 'gamma': 0, 'subsample': 0.8579185967177773, 'max_depth': 35, 'colsample_bytree': 0.5188319929432782, 'reg_alpha': 1, 'reg_lambda': 2}. Best is trial 185 with value: 0.8534920634920635.\n",
            "[I 2024-12-14 14:55:36,881] Trial 193 finished with value: 0.8419047619047619 and parameters: {'eta': 0.8796633077701068, 'n_estimators': 643, 'min_child_weight': 3, 'gamma': 0, 'subsample': 0.9993695178144404, 'max_depth': 33, 'colsample_bytree': 0.5283814518395373, 'reg_alpha': 1, 'reg_lambda': 2}. Best is trial 185 with value: 0.8534920634920635.\n",
            "[I 2024-12-14 14:55:39,060] Trial 194 finished with value: 0.8192063492063492 and parameters: {'eta': 0.8838906791702801, 'n_estimators': 647, 'min_child_weight': 3, 'gamma': 0, 'subsample': 0.8279396311257419, 'max_depth': 33, 'colsample_bytree': 0.5283274259929021, 'reg_alpha': 0, 'reg_lambda': 2}. Best is trial 185 with value: 0.8534920634920635.\n",
            "[I 2024-12-14 14:55:41,270] Trial 195 finished with value: 0.853015873015873 and parameters: {'eta': 0.8299063369498827, 'n_estimators': 675, 'min_child_weight': 3, 'gamma': 0, 'subsample': 0.982681033928447, 'max_depth': 34, 'colsample_bytree': 0.5439280582216999, 'reg_alpha': 1, 'reg_lambda': 2}. Best is trial 185 with value: 0.8534920634920635.\n",
            "[I 2024-12-14 14:55:43,466] Trial 196 finished with value: 0.853015873015873 and parameters: {'eta': 0.8385354773412947, 'n_estimators': 675, 'min_child_weight': 3, 'gamma': 0, 'subsample': 0.9833073622298523, 'max_depth': 37, 'colsample_bytree': 0.5429870104964737, 'reg_alpha': 1, 'reg_lambda': 2}. Best is trial 185 with value: 0.8534920634920635.\n",
            "[I 2024-12-14 14:55:45,803] Trial 197 finished with value: 0.853015873015873 and parameters: {'eta': 0.8288021333283282, 'n_estimators': 685, 'min_child_weight': 3, 'gamma': 0, 'subsample': 0.981104601520563, 'max_depth': 34, 'colsample_bytree': 0.5594813069969911, 'reg_alpha': 1, 'reg_lambda': 2}. Best is trial 185 with value: 0.8534920634920635.\n",
            "[I 2024-12-14 14:55:50,739] Trial 198 finished with value: 0.853015873015873 and parameters: {'eta': 0.8269786152317696, 'n_estimators': 672, 'min_child_weight': 3, 'gamma': 0, 'subsample': 0.9821318775689539, 'max_depth': 37, 'colsample_bytree': 0.5571191396666212, 'reg_alpha': 1, 'reg_lambda': 2}. Best is trial 185 with value: 0.8534920634920635.\n",
            "[I 2024-12-14 14:55:52,384] Trial 199 finished with value: 0.796984126984127 and parameters: {'eta': 0.8524072517018161, 'n_estimators': 702, 'min_child_weight': 3, 'gamma': 1, 'subsample': 0.9832611087629164, 'max_depth': 37, 'colsample_bytree': 0.54285207911819, 'reg_alpha': 1, 'reg_lambda': 2}. Best is trial 185 with value: 0.8534920634920635.\n"
          ]
        }
      ]
    },
    {
      "cell_type": "code",
      "source": [
        "best_params_xgb = study.best_params\n",
        "\n",
        "eta = best_params_xgb['eta']\n",
        "n_estimators = best_params_xgb['n_estimators']\n",
        "min_child_weight = best_params_xgb['min_child_weight']\n",
        "gamma = best_params_xgb['gamma']\n",
        "subsample = best_params_xgb['subsample']\n",
        "max_depth = best_params_xgb['max_depth']\n",
        "colsample_bytree = best_params_xgb['colsample_bytree']\n",
        "reg_alpha = best_params_xgb['reg_alpha']\n",
        "reg_lambda = best_params_xgb['reg_lambda']\n"
      ],
      "metadata": {
        "id": "A8YRF6bU6yH7"
      },
      "execution_count": null,
      "outputs": []
    },
    {
      "cell_type": "code",
      "source": [
        "best_model_xgb = XGBClassifier(min_child_weight=min_child_weight, gamma=gamma, subsample=subsample, max_depth=max_depth, colsample_bytree=colsample_bytree, reg_alpha=reg_alpha, reg_lambda=reg_lambda, random_state=13)\n",
        "best_model_xgb_acc = []\n",
        "best_model_xgb_mcc = []\n",
        "\n",
        "best_model_xgb.fit(X, y)\n",
        "score = cross_val_score(best_model_xgb, X, y, cv=skf, scoring='accuracy').mean()\n",
        "best_model_xgb_acc.append(score)\n",
        "best_model_xgb_mcc.append(matthews_corrcoef(y, best_model_xgb.predict(X)))\n",
        "\n",
        "print(f'Accuracy for XGBoost Classifier (after Optuna optimization): {best_model_xgb_acc[0]*100:.2f} %')\n",
        "print(f'MCC for XGBoost Classifier (after Optuna optimization): {best_model_xgb_mcc[0]:.2f}')\n"
      ],
      "metadata": {
        "colab": {
          "base_uri": "https://localhost:8080/"
        },
        "id": "1BwyGkhK7jPR",
        "outputId": "6e34820c-5adf-4adf-de0c-6cb0078562cd"
      },
      "execution_count": null,
      "outputs": [
        {
          "output_type": "stream",
          "name": "stdout",
          "text": [
            "Accuracy for XGBoost Classifier (after Optuna optimization): 85.35 %\n",
            "MCC for XGBoost Classifier (after Optuna optimization): 0.79\n"
          ]
        }
      ]
    },
    {
      "cell_type": "markdown",
      "source": [
        "# **6) Best model**"
      ],
      "metadata": {
        "id": "i1PcJj6w4bSo"
      }
    },
    {
      "cell_type": "code",
      "source": [
        "os.chdir('/content/drive/MyDrive/5ht7')\n",
        "!pwd\n",
        "!ls -l"
      ],
      "metadata": {
        "colab": {
          "base_uri": "https://localhost:8080/"
        },
        "id": "Skt9j-dbT5D9",
        "outputId": "92919e22-5c69-4610-f1a7-2affbce1f4d8"
      },
      "execution_count": null,
      "outputs": [
        {
          "output_type": "stream",
          "name": "stdout",
          "text": [
            "/content/drive/MyDrive/5ht7\n",
            "total 3140\n",
            "-rw------- 1 root root  272976 Dec 14 11:07 5ht7_IC50.csv\n",
            "-rw------- 1 root root 2033758 Dec 14 11:06 5ht7_Ki.csv\n",
            "-rw------- 1 root root  172421 Dec 14 14:54 5HT-7_ml_notebook.ipynb\n",
            "-rw------- 1 root root  730233 Dec 14 13:22 best_rfc_model.joblib\n",
            "drwx------ 4 root root    4096 Dec 14 14:34 catboost_info\n"
          ]
        }
      ]
    },
    {
      "cell_type": "code",
      "source": [
        "#Model save\n",
        "\n",
        "final_model = best_model_rfc\n",
        "path = os.path.join(os.getcwd(), 'best_rfc_model.joblib')\n",
        "dump(final_model, path)"
      ],
      "metadata": {
        "colab": {
          "base_uri": "https://localhost:8080/"
        },
        "id": "ftFdrpUt53Q_",
        "outputId": "fa45540e-7757-45b4-ab9b-3056ad8d4e97"
      },
      "execution_count": null,
      "outputs": [
        {
          "output_type": "execute_result",
          "data": {
            "text/plain": [
              "['/content/drive/MyDrive/5ht7/best_rfc_model.joblib']"
            ]
          },
          "metadata": {},
          "execution_count": 144
        }
      ]
    }
  ]
}
